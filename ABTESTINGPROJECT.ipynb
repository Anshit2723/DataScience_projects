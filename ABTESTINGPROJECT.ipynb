{
 "cells": [
  {
   "cell_type": "code",
   "execution_count": 30,
   "metadata": {},
   "outputs": [
    {
     "name": "stdout",
     "output_type": "stream",
     "text": [
      "Requirement already satisfied: statsmodels in c:\\users\\chatu\\projects\\mlprojects\\venv\\lib\\site-packages (0.14.1)\n",
      "Requirement already satisfied: numpy<2,>=1.18 in c:\\users\\chatu\\projects\\mlprojects\\venv\\lib\\site-packages (from statsmodels) (1.24.4)\n",
      "Requirement already satisfied: scipy!=1.9.2,>=1.4 in c:\\users\\chatu\\projects\\mlprojects\\venv\\lib\\site-packages (from statsmodels) (1.10.1)\n",
      "Requirement already satisfied: pandas!=2.1.0,>=1.0 in c:\\users\\chatu\\projects\\mlprojects\\venv\\lib\\site-packages (from statsmodels) (2.0.3)\n",
      "Requirement already satisfied: patsy>=0.5.4 in c:\\users\\chatu\\projects\\mlprojects\\venv\\lib\\site-packages (from statsmodels) (0.5.6)\n",
      "Requirement already satisfied: packaging>=21.3 in c:\\users\\chatu\\projects\\mlprojects\\venv\\lib\\site-packages (from statsmodels) (24.1)\n",
      "Requirement already satisfied: python-dateutil>=2.8.2 in c:\\users\\chatu\\projects\\mlprojects\\venv\\lib\\site-packages (from pandas!=2.1.0,>=1.0->statsmodels) (2.9.0)\n",
      "Requirement already satisfied: pytz>=2020.1 in c:\\users\\chatu\\projects\\mlprojects\\venv\\lib\\site-packages (from pandas!=2.1.0,>=1.0->statsmodels) (2024.1)\n",
      "Requirement already satisfied: tzdata>=2022.1 in c:\\users\\chatu\\projects\\mlprojects\\venv\\lib\\site-packages (from pandas!=2.1.0,>=1.0->statsmodels) (2024.1)\n",
      "Requirement already satisfied: six in c:\\users\\chatu\\projects\\mlprojects\\venv\\lib\\site-packages (from patsy>=0.5.4->statsmodels) (1.16.0)\n",
      "Note: you may need to restart the kernel to use updated packages.\n",
      "Requirement already satisfied: imbalanced-learn in c:\\users\\chatu\\projects\\mlprojects\\venv\\lib\\site-packages (0.12.3)\n",
      "Requirement already satisfied: numpy>=1.17.3 in c:\\users\\chatu\\projects\\mlprojects\\venv\\lib\\site-packages (from imbalanced-learn) (1.24.4)\n",
      "Requirement already satisfied: scipy>=1.5.0 in c:\\users\\chatu\\projects\\mlprojects\\venv\\lib\\site-packages (from imbalanced-learn) (1.10.1)\n",
      "Requirement already satisfied: scikit-learn>=1.0.2 in c:\\users\\chatu\\projects\\mlprojects\\venv\\lib\\site-packages (from imbalanced-learn) (1.3.2)\n",
      "Requirement already satisfied: joblib>=1.1.1 in c:\\users\\chatu\\projects\\mlprojects\\venv\\lib\\site-packages (from imbalanced-learn) (1.4.2)\n",
      "Requirement already satisfied: threadpoolctl>=2.0.0 in c:\\users\\chatu\\projects\\mlprojects\\venv\\lib\\site-packages (from imbalanced-learn) (3.5.0)\n",
      "Note: you may need to restart the kernel to use updated packages.\n"
     ]
    }
   ],
   "source": [
    "%pip install statsmodels\n",
    "%pip install imbalanced-learn\n",
    "\n",
    "import numpy as np\n"
   ]
  },
  {
   "cell_type": "code",
   "execution_count": 31,
   "metadata": {},
   "outputs": [],
   "source": [
    "import pandas as pd \n",
    "\n",
    "\n",
    "df1=pd.read_csv(\"ab_data.csv\")\n",
    "df2=pd.read_csv(\"countries.csv\")"
   ]
  },
  {
   "cell_type": "code",
   "execution_count": 32,
   "metadata": {},
   "outputs": [
    {
     "data": {
      "text/html": [
       "<div>\n",
       "<style scoped>\n",
       "    .dataframe tbody tr th:only-of-type {\n",
       "        vertical-align: middle;\n",
       "    }\n",
       "\n",
       "    .dataframe tbody tr th {\n",
       "        vertical-align: top;\n",
       "    }\n",
       "\n",
       "    .dataframe thead th {\n",
       "        text-align: right;\n",
       "    }\n",
       "</style>\n",
       "<table border=\"1\" class=\"dataframe\">\n",
       "  <thead>\n",
       "    <tr style=\"text-align: right;\">\n",
       "      <th></th>\n",
       "      <th>user_id</th>\n",
       "      <th>timestamp</th>\n",
       "      <th>group</th>\n",
       "      <th>landing_page</th>\n",
       "      <th>converted</th>\n",
       "    </tr>\n",
       "  </thead>\n",
       "  <tbody>\n",
       "    <tr>\n",
       "      <th>0</th>\n",
       "      <td>851104</td>\n",
       "      <td>11:48.6</td>\n",
       "      <td>control</td>\n",
       "      <td>old_page</td>\n",
       "      <td>0</td>\n",
       "    </tr>\n",
       "    <tr>\n",
       "      <th>1</th>\n",
       "      <td>804228</td>\n",
       "      <td>01:45.2</td>\n",
       "      <td>control</td>\n",
       "      <td>old_page</td>\n",
       "      <td>0</td>\n",
       "    </tr>\n",
       "    <tr>\n",
       "      <th>2</th>\n",
       "      <td>661590</td>\n",
       "      <td>55:06.2</td>\n",
       "      <td>treatment</td>\n",
       "      <td>new_page</td>\n",
       "      <td>0</td>\n",
       "    </tr>\n",
       "    <tr>\n",
       "      <th>3</th>\n",
       "      <td>853541</td>\n",
       "      <td>28:03.1</td>\n",
       "      <td>treatment</td>\n",
       "      <td>new_page</td>\n",
       "      <td>0</td>\n",
       "    </tr>\n",
       "    <tr>\n",
       "      <th>4</th>\n",
       "      <td>864975</td>\n",
       "      <td>52:26.2</td>\n",
       "      <td>control</td>\n",
       "      <td>old_page</td>\n",
       "      <td>1</td>\n",
       "    </tr>\n",
       "  </tbody>\n",
       "</table>\n",
       "</div>"
      ],
      "text/plain": [
       "   user_id timestamp      group landing_page  converted\n",
       "0   851104   11:48.6    control     old_page          0\n",
       "1   804228   01:45.2    control     old_page          0\n",
       "2   661590   55:06.2  treatment     new_page          0\n",
       "3   853541   28:03.1  treatment     new_page          0\n",
       "4   864975   52:26.2    control     old_page          1"
      ]
     },
     "execution_count": 32,
     "metadata": {},
     "output_type": "execute_result"
    }
   ],
   "source": [
    "df1.head()"
   ]
  },
  {
   "cell_type": "code",
   "execution_count": 33,
   "metadata": {},
   "outputs": [
    {
     "data": {
      "text/html": [
       "<div>\n",
       "<style scoped>\n",
       "    .dataframe tbody tr th:only-of-type {\n",
       "        vertical-align: middle;\n",
       "    }\n",
       "\n",
       "    .dataframe tbody tr th {\n",
       "        vertical-align: top;\n",
       "    }\n",
       "\n",
       "    .dataframe thead th {\n",
       "        text-align: right;\n",
       "    }\n",
       "</style>\n",
       "<table border=\"1\" class=\"dataframe\">\n",
       "  <thead>\n",
       "    <tr style=\"text-align: right;\">\n",
       "      <th></th>\n",
       "      <th>user_id</th>\n",
       "      <th>country</th>\n",
       "    </tr>\n",
       "  </thead>\n",
       "  <tbody>\n",
       "    <tr>\n",
       "      <th>0</th>\n",
       "      <td>834778</td>\n",
       "      <td>UK</td>\n",
       "    </tr>\n",
       "    <tr>\n",
       "      <th>1</th>\n",
       "      <td>928468</td>\n",
       "      <td>US</td>\n",
       "    </tr>\n",
       "    <tr>\n",
       "      <th>2</th>\n",
       "      <td>822059</td>\n",
       "      <td>UK</td>\n",
       "    </tr>\n",
       "    <tr>\n",
       "      <th>3</th>\n",
       "      <td>711597</td>\n",
       "      <td>UK</td>\n",
       "    </tr>\n",
       "    <tr>\n",
       "      <th>4</th>\n",
       "      <td>710616</td>\n",
       "      <td>UK</td>\n",
       "    </tr>\n",
       "  </tbody>\n",
       "</table>\n",
       "</div>"
      ],
      "text/plain": [
       "   user_id country\n",
       "0   834778      UK\n",
       "1   928468      US\n",
       "2   822059      UK\n",
       "3   711597      UK\n",
       "4   710616      UK"
      ]
     },
     "execution_count": 33,
     "metadata": {},
     "output_type": "execute_result"
    }
   ],
   "source": [
    "df2.head()"
   ]
  },
  {
   "cell_type": "code",
   "execution_count": 34,
   "metadata": {},
   "outputs": [],
   "source": [
    "full_data=pd.merge(df1,df2,on='user_id',how='left')"
   ]
  },
  {
   "cell_type": "markdown",
   "metadata": {},
   "source": [
    "<h1>\"Data Overview\"</h1>"
   ]
  },
  {
   "cell_type": "code",
   "execution_count": 35,
   "metadata": {},
   "outputs": [
    {
     "data": {
      "text/html": [
       "<div>\n",
       "<style scoped>\n",
       "    .dataframe tbody tr th:only-of-type {\n",
       "        vertical-align: middle;\n",
       "    }\n",
       "\n",
       "    .dataframe tbody tr th {\n",
       "        vertical-align: top;\n",
       "    }\n",
       "\n",
       "    .dataframe thead th {\n",
       "        text-align: right;\n",
       "    }\n",
       "</style>\n",
       "<table border=\"1\" class=\"dataframe\">\n",
       "  <thead>\n",
       "    <tr style=\"text-align: right;\">\n",
       "      <th></th>\n",
       "      <th>user_id</th>\n",
       "      <th>timestamp</th>\n",
       "      <th>group</th>\n",
       "      <th>landing_page</th>\n",
       "      <th>converted</th>\n",
       "      <th>country</th>\n",
       "    </tr>\n",
       "  </thead>\n",
       "  <tbody>\n",
       "    <tr>\n",
       "      <th>0</th>\n",
       "      <td>851104</td>\n",
       "      <td>11:48.6</td>\n",
       "      <td>control</td>\n",
       "      <td>old_page</td>\n",
       "      <td>0</td>\n",
       "      <td>US</td>\n",
       "    </tr>\n",
       "    <tr>\n",
       "      <th>1</th>\n",
       "      <td>804228</td>\n",
       "      <td>01:45.2</td>\n",
       "      <td>control</td>\n",
       "      <td>old_page</td>\n",
       "      <td>0</td>\n",
       "      <td>US</td>\n",
       "    </tr>\n",
       "    <tr>\n",
       "      <th>2</th>\n",
       "      <td>661590</td>\n",
       "      <td>55:06.2</td>\n",
       "      <td>treatment</td>\n",
       "      <td>new_page</td>\n",
       "      <td>0</td>\n",
       "      <td>US</td>\n",
       "    </tr>\n",
       "    <tr>\n",
       "      <th>3</th>\n",
       "      <td>853541</td>\n",
       "      <td>28:03.1</td>\n",
       "      <td>treatment</td>\n",
       "      <td>new_page</td>\n",
       "      <td>0</td>\n",
       "      <td>US</td>\n",
       "    </tr>\n",
       "    <tr>\n",
       "      <th>4</th>\n",
       "      <td>864975</td>\n",
       "      <td>52:26.2</td>\n",
       "      <td>control</td>\n",
       "      <td>old_page</td>\n",
       "      <td>1</td>\n",
       "      <td>US</td>\n",
       "    </tr>\n",
       "  </tbody>\n",
       "</table>\n",
       "</div>"
      ],
      "text/plain": [
       "   user_id timestamp      group landing_page  converted country\n",
       "0   851104   11:48.6    control     old_page          0      US\n",
       "1   804228   01:45.2    control     old_page          0      US\n",
       "2   661590   55:06.2  treatment     new_page          0      US\n",
       "3   853541   28:03.1  treatment     new_page          0      US\n",
       "4   864975   52:26.2    control     old_page          1      US"
      ]
     },
     "execution_count": 35,
     "metadata": {},
     "output_type": "execute_result"
    }
   ],
   "source": [
    "full_data.head()"
   ]
  },
  {
   "cell_type": "code",
   "execution_count": 36,
   "metadata": {},
   "outputs": [
    {
     "data": {
      "text/html": [
       "<div>\n",
       "<style scoped>\n",
       "    .dataframe tbody tr th:only-of-type {\n",
       "        vertical-align: middle;\n",
       "    }\n",
       "\n",
       "    .dataframe tbody tr th {\n",
       "        vertical-align: top;\n",
       "    }\n",
       "\n",
       "    .dataframe thead th {\n",
       "        text-align: right;\n",
       "    }\n",
       "</style>\n",
       "<table border=\"1\" class=\"dataframe\">\n",
       "  <thead>\n",
       "    <tr style=\"text-align: right;\">\n",
       "      <th></th>\n",
       "      <th>user_id</th>\n",
       "      <th>converted</th>\n",
       "    </tr>\n",
       "  </thead>\n",
       "  <tbody>\n",
       "    <tr>\n",
       "      <th>count</th>\n",
       "      <td>294482.000000</td>\n",
       "      <td>294482.000000</td>\n",
       "    </tr>\n",
       "    <tr>\n",
       "      <th>mean</th>\n",
       "      <td>787973.348225</td>\n",
       "      <td>0.119658</td>\n",
       "    </tr>\n",
       "    <tr>\n",
       "      <th>std</th>\n",
       "      <td>91210.636700</td>\n",
       "      <td>0.324561</td>\n",
       "    </tr>\n",
       "    <tr>\n",
       "      <th>min</th>\n",
       "      <td>630000.000000</td>\n",
       "      <td>0.000000</td>\n",
       "    </tr>\n",
       "    <tr>\n",
       "      <th>25%</th>\n",
       "      <td>709032.250000</td>\n",
       "      <td>0.000000</td>\n",
       "    </tr>\n",
       "    <tr>\n",
       "      <th>50%</th>\n",
       "      <td>787931.500000</td>\n",
       "      <td>0.000000</td>\n",
       "    </tr>\n",
       "    <tr>\n",
       "      <th>75%</th>\n",
       "      <td>866910.750000</td>\n",
       "      <td>0.000000</td>\n",
       "    </tr>\n",
       "    <tr>\n",
       "      <th>max</th>\n",
       "      <td>945999.000000</td>\n",
       "      <td>1.000000</td>\n",
       "    </tr>\n",
       "  </tbody>\n",
       "</table>\n",
       "</div>"
      ],
      "text/plain": [
       "             user_id      converted\n",
       "count  294482.000000  294482.000000\n",
       "mean   787973.348225       0.119658\n",
       "std     91210.636700       0.324561\n",
       "min    630000.000000       0.000000\n",
       "25%    709032.250000       0.000000\n",
       "50%    787931.500000       0.000000\n",
       "75%    866910.750000       0.000000\n",
       "max    945999.000000       1.000000"
      ]
     },
     "execution_count": 36,
     "metadata": {},
     "output_type": "execute_result"
    }
   ],
   "source": [
    "full_data.describe()"
   ]
  },
  {
   "cell_type": "code",
   "execution_count": 37,
   "metadata": {},
   "outputs": [
    {
     "name": "stdout",
     "output_type": "stream",
     "text": [
      "<class 'pandas.core.frame.DataFrame'>\n",
      "RangeIndex: 294482 entries, 0 to 294481\n",
      "Data columns (total 6 columns):\n",
      " #   Column        Non-Null Count   Dtype \n",
      "---  ------        --------------   ----- \n",
      " 0   user_id       294482 non-null  int64 \n",
      " 1   timestamp     294482 non-null  object\n",
      " 2   group         294482 non-null  object\n",
      " 3   landing_page  294482 non-null  object\n",
      " 4   converted     294482 non-null  int64 \n",
      " 5   country       294482 non-null  object\n",
      "dtypes: int64(2), object(4)\n",
      "memory usage: 13.5+ MB\n"
     ]
    }
   ],
   "source": [
    "full_data.info()"
   ]
  },
  {
   "cell_type": "markdown",
   "metadata": {},
   "source": [
    "<h1>\"Exploratory Data Analysis (EDA)\"</h1>"
   ]
  },
  {
   "cell_type": "code",
   "execution_count": 38,
   "metadata": {},
   "outputs": [
    {
     "data": {
      "text/plain": [
       "user_id         0\n",
       "timestamp       0\n",
       "group           0\n",
       "landing_page    0\n",
       "converted       0\n",
       "country         0\n",
       "dtype: int64"
      ]
     },
     "execution_count": 38,
     "metadata": {},
     "output_type": "execute_result"
    }
   ],
   "source": [
    "full_data.isnull().sum()\n"
   ]
  },
  {
   "cell_type": "code",
   "execution_count": 39,
   "metadata": {},
   "outputs": [
    {
     "name": "stdout",
     "output_type": "stream",
     "text": [
      "3897\n"
     ]
    }
   ],
   "source": [
    "duplicates=full_data['user_id'].duplicated().sum()\n",
    "print(duplicates)\n"
   ]
  },
  {
   "cell_type": "code",
   "execution_count": 40,
   "metadata": {},
   "outputs": [],
   "source": [
    "# Keep the first instance of each user_id\n",
    "full_data_cleaned = full_data.drop_duplicates(subset='user_id', keep='first')\n"
   ]
  },
  {
   "cell_type": "code",
   "execution_count": 41,
   "metadata": {},
   "outputs": [],
   "source": [
    "#calculating conversion rates for control and treatment groups\n",
    "conversion_rates=full_data_cleaned.groupby('group')['converted'].mean()*100 #converting to percentage"
   ]
  },
  {
   "cell_type": "code",
   "execution_count": 42,
   "metadata": {},
   "outputs": [
    {
     "name": "stdout",
     "output_type": "stream",
     "text": [
      "group\n",
      "control      12.029718\n",
      "treatment    11.884172\n",
      "Name: converted, dtype: float64\n"
     ]
    }
   ],
   "source": [
    "print(conversion_rates)"
   ]
  },
  {
   "cell_type": "code",
   "execution_count": 43,
   "metadata": {},
   "outputs": [],
   "source": [
    "import matplotlib.pyplot as plt\n",
    "import seaborn as sns"
   ]
  },
  {
   "cell_type": "code",
   "execution_count": 44,
   "metadata": {},
   "outputs": [
    {
     "name": "stderr",
     "output_type": "stream",
     "text": [
      "C:\\Users\\chatu\\AppData\\Local\\Temp\\ipykernel_17272\\481359630.py:2: FutureWarning: \n",
      "\n",
      "Passing `palette` without assigning `hue` is deprecated and will be removed in v0.14.0. Assign the `x` variable to `hue` and set `legend=False` for the same effect.\n",
      "\n",
      "  sns.barplot(x=conversion_rates.index,y=conversion_rates.values,palette='pastel')\n",
      "No artists with labels found to put in legend.  Note that artists whose label start with an underscore are ignored when legend() is called with no argument.\n"
     ]
    },
    {
     "data": {
      "image/png": "[encoded data removed]",
      "text/plain": [
       "<Figure size 1000x600 with 1 Axes>"
      ]
     },
     "metadata": {},
     "output_type": "display_data"
    }
   ],
   "source": [
    "plt.figure(figsize=(10,6))\n",
    "sns.barplot(x=conversion_rates.index,y=conversion_rates.values,palette='pastel')\n",
    "plt.title(\"Conversion rates by Group\")\n",
    "plt.legend()\n",
    "plt.xlabel('group')\n",
    "plt.ylabel('conversion_rate')\n",
    "plt.ylim(0,20)\n",
    "plt.show()"
   ]
  },
  {
   "cell_type": "code",
   "execution_count": 45,
   "metadata": {},
   "outputs": [
    {
     "name": "stdout",
     "output_type": "stream",
     "text": [
      "Conversion Rates by Country:\n",
      "country\n",
      "CA    11.573212\n",
      "UK    12.052549\n",
      "US    11.950201\n",
      "Name: converted, dtype: float64\n"
     ]
    },
    {
     "name": "stderr",
     "output_type": "stream",
     "text": [
      "C:\\Users\\chatu\\AppData\\Local\\Temp\\ipykernel_17272\\1247513866.py:7: FutureWarning: \n",
      "\n",
      "Passing `palette` without assigning `hue` is deprecated and will be removed in v0.14.0. Assign the `x` variable to `hue` and set `legend=False` for the same effect.\n",
      "\n",
      "  sns.barplot(x=conversion_by_country.index, y=conversion_by_country.values, palette='viridis')\n"
     ]
    },
    {
     "data": {
      "image/png": "[encoded data removed]",
      "text/plain": [
       "<Figure size 1200x600 with 1 Axes>"
      ]
     },
     "metadata": {},
     "output_type": "display_data"
    }
   ],
   "source": [
    "# Calculate conversion rates by country\n",
    "conversion_by_country = full_data_cleaned.groupby('country')['converted'].mean() * 100\n",
    "print(f\"Conversion Rates by Country:\\n{conversion_by_country}\")\n",
    "\n",
    "# Visualize conversion rates by country\n",
    "plt.figure(figsize=(12, 6))\n",
    "sns.barplot(x=conversion_by_country.index, y=conversion_by_country.values, palette='viridis')\n",
    "plt.title('Conversion Rates by Country')\n",
    "plt.xlabel('Country')\n",
    "plt.ylabel('Conversion Rate (%)')\n",
    "plt.ylim(0, 20)\n",
    "plt.show()\n"
   ]
  },
  {
   "cell_type": "code",
   "execution_count": 46,
   "metadata": {},
   "outputs": [
    {
     "name": "stdout",
     "output_type": "stream",
     "text": [
      "Total Users: 290585\n",
      "Total Conversions: 34745\n",
      "Overall Conversion Rate: 11.96%\n"
     ]
    }
   ],
   "source": [
    "# Count total conversions and non-conversions\n",
    "total_conversions = full_data_cleaned['converted'].sum()\n",
    "total_users = full_data_cleaned['user_id'].nunique()  # Unique users\n",
    "conversion_rate = total_conversions / total_users * 100\n",
    "\n",
    "print(f\"Total Users: {total_users}\")\n",
    "print(f\"Total Conversions: {total_conversions}\")\n",
    "print(f\"Overall Conversion Rate: {conversion_rate:.2f}%\")\n"
   ]
  },
  {
   "cell_type": "code",
   "execution_count": null,
   "metadata": {},
   "outputs": [],
   "source": []
  },
  {
   "cell_type": "markdown",
   "metadata": {},
   "source": [
    "<h1><span style=\"background-color:yellow\">\n",
    "<span style=\"color:black\">Hypothesis Testing (A/B Testing)</span></h1>\n",
    "\n",
    "The primary goal of this project is to determine whether the new page (treatment) performs better than the old page (control) in terms of conversions. We will run a hypothesis test to determine if the observed differences in conversion rates between the two groups are statistically significant.\n",
    "\n",
    "Step 1: Define Hypotheses\n",
    "For an A/B test, we typically define the following hypotheses:\n",
    "\n",
    "Null Hypothesis (H₀): There is no difference in conversion rates between the control (old page) and treatment (new page) groups.\n",
    "Alternative Hypothesis (H₁): There is a difference in conversion rates between the control and treatment groups.\n",
    "Mathematically:\n",
    "H₀: \n",
    "𝑝 old = 𝑝 new\n",
    "H₁: \n",
    "𝑝 old ≠𝑝 new\n",
    "</span>"
   ]
  },
  {
   "cell_type": "code",
   "execution_count": 47,
   "metadata": {},
   "outputs": [
    {
     "name": "stdout",
     "output_type": "stream",
     "text": [
      "Z-statistic: 1.2090677477177405\n",
      "P-value: 0.22663681880712272\n"
     ]
    }
   ],
   "source": [
    "import statsmodels.api as sm\n",
    "\n",
    "# Number of conversions and total users for each group\n",
    "control_converted = full_data_cleaned[full_data_cleaned['group'] == 'control']['converted'].sum()\n",
    "treatment_converted = full_data_cleaned[full_data_cleaned['group'] == 'treatment']['converted'].sum()\n",
    "\n",
    "control_total = full_data_cleaned[full_data_cleaned['group'] == 'control'].shape[0]\n",
    "treatment_total = full_data_cleaned[full_data_cleaned['group'] == 'treatment'].shape[0]\n",
    "\n",
    "# Conversion rates for each group\n",
    "control_rate = control_converted / control_total\n",
    "treatment_rate = treatment_converted / treatment_total\n",
    "\n",
    "# Perform the Z-test for proportions\n",
    "count = np.array([control_converted, treatment_converted])  # Number of conversions in each group\n",
    "nobs = np.array([control_total, treatment_total])  # Number of users in each group\n",
    "\n",
    "z_stat, p_value = sm.stats.proportions_ztest(count, nobs)\n",
    "print(f\"Z-statistic: {z_stat}\")\n",
    "print(f\"P-value: {p_value}\")\n"
   ]
  },
  {
   "cell_type": "code",
   "execution_count": 48,
   "metadata": {},
   "outputs": [
    {
     "data": {
      "text/plain": [
       "(17274, 17471)"
      ]
     },
     "execution_count": 48,
     "metadata": {},
     "output_type": "execute_result"
    }
   ],
   "source": [
    "treatment_converted,control_converted"
   ]
  },
  {
   "cell_type": "markdown",
   "metadata": {},
   "source": [
    "<span style=\"color= : black\">Interpret the Results\n",
    "Z-statistic: This tells us how many standard deviations the difference in conversion rates is away from the null hypothesis. A larger Z-statistic indicates stronger evidence against the null hypothesis.\n",
    "\n",
    "P-value: The p-value tells us the probability of observing a result as extreme as (or more extreme than) the one we got, assuming the null hypothesis is true.\n",
    "\n",
    "If p-value < 0.05 (assuming a 5% significance level), we reject the null hypothesis and conclude that there is a statistically significant difference between the control and treatment groups.\n",
    "If p-value > 0.05, we fail to reject the null hypothesis and conclude that the difference is not statistically significant.</span>"
   ]
  },
  {
   "cell_type": "markdown",
   "metadata": {},
   "source": [
    "<span style=\"color:black\">P-value = 0.227, which is much larger than the typical threshold of 0.05 (or 5% significance level).\n",
    "Since the p-value is greater than 0.05, we fail to reject the null hypothesis.\n",
    "\n",
    "<span style=\"background-color: yellow\">Conclusion\n",
    "Fail to reject the null hypothesis: The data does not provide sufficient evidence to conclude that the new page has a significantly different conversion rate compared to the old page.\n",
    "Business Implication: Based on the current data, the company should not implement the new page yet because the difference in conversion rates between the old and new pages is not statistically significant.</span>\n",
    "\n",
    "\n",
    "\n",
    "</span>"
   ]
  },
  {
   "cell_type": "markdown",
   "metadata": {},
   "source": [
    "<set style=\"color:black\"></style>"
   ]
  },
  {
   "cell_type": "markdown",
   "metadata": {},
   "source": [
    "<set style=\"color:darkblack\">\n",
    "Effect Size Calculation:</style>\n",
    "<set style=\"color:black\">The effect size tells you the magnitude of the difference between the two groups, which helps in understanding the practical significance even if the result isn't statistically significant.\n",
    "\n",
    "\n",
    "\n",
    "(Coehen's h)h=2×(arcsin(sqrt(p1))−arcsin(sqrt( p2)))\n",
    "</style>"
   ]
  },
  {
   "cell_type": "code",
   "execution_count": 49,
   "metadata": {},
   "outputs": [
    {
     "name": "stdout",
     "output_type": "stream",
     "text": [
      "Effect Size (Cohen's h): -0.0044858574019009945\n"
     ]
    }
   ],
   "source": [
    "# Conversion rates for both groups\n",
    "p1 = treatment_rate  # Treatment group conversion rate\n",
    "p2 = control_rate    # Control group conversion rate\n",
    "\n",
    "# Calculate Cohen's h\n",
    "cohen_h = 2 * (np.arcsin(np.sqrt(p1)) - np.arcsin(np.sqrt(p2)))\n",
    "print(f\"Effect Size (Cohen's h): {cohen_h}\")\n"
   ]
  },
  {
   "cell_type": "code",
   "execution_count": 50,
   "metadata": {},
   "outputs": [
    {
     "data": {
      "text/plain": [
       "(0.11884171637324308, 0.12029717968491792)"
      ]
     },
     "execution_count": 50,
     "metadata": {},
     "output_type": "execute_result"
    }
   ],
   "source": [
    "treatment_rate,control_rate"
   ]
  },
  {
   "cell_type": "markdown",
   "metadata": {},
   "source": [
    "<set style=\"background-color:yellow\">Cohen's h = -0.0045 indicates that the difference in conversion rates between the control and treatment groups is negligibly small.\n",
    "The negative sign just means that the control group's conversion rate is slightly higher than the treatment group's, but the difference is so tiny that it's practically insignificant.</style>"
   ]
  },
  {
   "cell_type": "markdown",
   "metadata": {},
   "source": [
    "<H1>\"MACHINE LEARNING ANALSYIS\"</H1>"
   ]
  },
  {
   "cell_type": "code",
   "execution_count": 51,
   "metadata": {},
   "outputs": [
    {
     "name": "stdout",
     "output_type": "stream",
     "text": [
      "converted\n",
      "0    255840\n",
      "1     34745\n",
      "Name: count, dtype: int64\n"
     ]
    }
   ],
   "source": [
    "print(full_data_cleaned['converted'].value_counts())\n"
   ]
  },
  {
   "cell_type": "markdown",
   "metadata": {},
   "source": [
    "<h3>\"IMBALANCED DATA\"</h3>\n",
    "APPLYING SMOTE=SYNTHETIC MINORITY OVERSAMPLING TECHNIQUE"
   ]
  },
  {
   "cell_type": "code",
   "execution_count": 102,
   "metadata": {},
   "outputs": [],
   "source": [
    "# Import necessary libraries\n",
    "import pandas as pd\n",
    "from sklearn.model_selection import train_test_split\n",
    "from imblearn.over_sampling import SMOTE\n",
    "from sklearn.preprocessing import StandardScaler\n",
    "\n",
    "# Sample 20% of the full cleaned data\n",
    "full_data_sampled = full_data_cleaned.sample(frac=0.5, random_state=42)\n",
    "\n",
    "# Define the target variable (y) and the features (X)\n",
    "X = full_data_sampled[['group', 'landing_page', 'country']]\n",
    "y = full_data_sampled['converted']\n",
    "\n",
    "\n",
    "# Split the data into training and testing sets (80% train, 20% test)\n",
    "X_train, X_test, y_train, y_test = train_test_split(X, y, test_size=0.2, random_state=42, stratify=y)\n",
    "\n",
    "# Converting bool output to int type for smote to work properly\n",
    "X_train_encoded = pd.get_dummies(X_train, drop_first=True)\n",
    "\n",
    "X_train_encoded, X_test_encoded = X_train_encoded.align(X_test_encoded, join='left', axis=1, fill_value=0)\n",
    "\n",
    "#Convert boolean columns to int\n",
    "X_train_encoded['group_treatment'] = X_train_encoded['group_treatment'].astype(int)\n",
    "X_train_encoded['landing_page_old_page'] = X_train_encoded['landing_page_old_page'].astype(int)\n",
    "X_train_encoded['country_UK'] = X_train_encoded['country_UK'].astype(int)\n",
    "X_train_encoded['country_US'] = X_train_encoded['country_US'].astype(int)\n",
    "\n",
    "\n"
   ]
  },
  {
   "cell_type": "code",
   "execution_count": 104,
   "metadata": {},
   "outputs": [
    {
     "data": {
      "text/plain": [
       "((29059, 4), (116233, 4), (29059,), (116233, 1), (145292, 3), (145292, 6))"
      ]
     },
     "execution_count": 104,
     "metadata": {},
     "output_type": "execute_result"
    }
   ],
   "source": [
    "X_test_scaled.shape,X_train_encoded.shape,y_test.shape,y_train_encoded.shape,X.shape,full_data_sampled.shape"
   ]
  },
  {
   "cell_type": "code",
   "execution_count": 72,
   "metadata": {},
   "outputs": [
    {
     "data": {
      "text/html": [
       "<div>\n",
       "<style scoped>\n",
       "    .dataframe tbody tr th:only-of-type {\n",
       "        vertical-align: middle;\n",
       "    }\n",
       "\n",
       "    .dataframe tbody tr th {\n",
       "        vertical-align: top;\n",
       "    }\n",
       "\n",
       "    .dataframe thead th {\n",
       "        text-align: right;\n",
       "    }\n",
       "</style>\n",
       "<table border=\"1\" class=\"dataframe\">\n",
       "  <thead>\n",
       "    <tr style=\"text-align: right;\">\n",
       "      <th></th>\n",
       "      <th>group</th>\n",
       "      <th>landing_page</th>\n",
       "      <th>country</th>\n",
       "    </tr>\n",
       "  </thead>\n",
       "  <tbody>\n",
       "    <tr>\n",
       "      <th>283417</th>\n",
       "      <td>treatment</td>\n",
       "      <td>new_page</td>\n",
       "      <td>US</td>\n",
       "    </tr>\n",
       "    <tr>\n",
       "      <th>211371</th>\n",
       "      <td>control</td>\n",
       "      <td>old_page</td>\n",
       "      <td>US</td>\n",
       "    </tr>\n",
       "    <tr>\n",
       "      <th>219396</th>\n",
       "      <td>treatment</td>\n",
       "      <td>new_page</td>\n",
       "      <td>UK</td>\n",
       "    </tr>\n",
       "    <tr>\n",
       "      <th>234895</th>\n",
       "      <td>control</td>\n",
       "      <td>old_page</td>\n",
       "      <td>UK</td>\n",
       "    </tr>\n",
       "    <tr>\n",
       "      <th>181219</th>\n",
       "      <td>control</td>\n",
       "      <td>old_page</td>\n",
       "      <td>US</td>\n",
       "    </tr>\n",
       "    <tr>\n",
       "      <th>...</th>\n",
       "      <td>...</td>\n",
       "      <td>...</td>\n",
       "      <td>...</td>\n",
       "    </tr>\n",
       "    <tr>\n",
       "      <th>198942</th>\n",
       "      <td>control</td>\n",
       "      <td>old_page</td>\n",
       "      <td>US</td>\n",
       "    </tr>\n",
       "    <tr>\n",
       "      <th>184960</th>\n",
       "      <td>control</td>\n",
       "      <td>old_page</td>\n",
       "      <td>US</td>\n",
       "    </tr>\n",
       "    <tr>\n",
       "      <th>87485</th>\n",
       "      <td>treatment</td>\n",
       "      <td>new_page</td>\n",
       "      <td>UK</td>\n",
       "    </tr>\n",
       "    <tr>\n",
       "      <th>228967</th>\n",
       "      <td>control</td>\n",
       "      <td>old_page</td>\n",
       "      <td>US</td>\n",
       "    </tr>\n",
       "    <tr>\n",
       "      <th>206303</th>\n",
       "      <td>control</td>\n",
       "      <td>old_page</td>\n",
       "      <td>US</td>\n",
       "    </tr>\n",
       "  </tbody>\n",
       "</table>\n",
       "<p>145292 rows × 3 columns</p>\n",
       "</div>"
      ],
      "text/plain": [
       "            group landing_page country\n",
       "283417  treatment     new_page      US\n",
       "211371    control     old_page      US\n",
       "219396  treatment     new_page      UK\n",
       "234895    control     old_page      UK\n",
       "181219    control     old_page      US\n",
       "...           ...          ...     ...\n",
       "198942    control     old_page      US\n",
       "184960    control     old_page      US\n",
       "87485   treatment     new_page      UK\n",
       "228967    control     old_page      US\n",
       "206303    control     old_page      US\n",
       "\n",
       "[145292 rows x 3 columns]"
      ]
     },
     "execution_count": 72,
     "metadata": {},
     "output_type": "execute_result"
    }
   ],
   "source": [
    "X"
   ]
  },
  {
   "cell_type": "code",
   "execution_count": 74,
   "metadata": {},
   "outputs": [
    {
     "data": {
      "text/plain": [
       "283417    0\n",
       "211371    0\n",
       "219396    0\n",
       "234895    0\n",
       "181219    0\n",
       "         ..\n",
       "198942    0\n",
       "184960    0\n",
       "87485     0\n",
       "228967    0\n",
       "206303    1\n",
       "Name: converted, Length: 145292, dtype: int64"
      ]
     },
     "execution_count": 74,
     "metadata": {},
     "output_type": "execute_result"
    }
   ],
   "source": [
    "y"
   ]
  },
  {
   "cell_type": "code",
   "execution_count": 84,
   "metadata": {},
   "outputs": [
    {
     "data": {
      "text/html": [
       "<div>\n",
       "<style scoped>\n",
       "    .dataframe tbody tr th:only-of-type {\n",
       "        vertical-align: middle;\n",
       "    }\n",
       "\n",
       "    .dataframe tbody tr th {\n",
       "        vertical-align: top;\n",
       "    }\n",
       "\n",
       "    .dataframe thead th {\n",
       "        text-align: right;\n",
       "    }\n",
       "</style>\n",
       "<table border=\"1\" class=\"dataframe\">\n",
       "  <thead>\n",
       "    <tr style=\"text-align: right;\">\n",
       "      <th></th>\n",
       "      <th>group_treatment</th>\n",
       "      <th>landing_page_old_page</th>\n",
       "      <th>country_UK</th>\n",
       "      <th>country_US</th>\n",
       "    </tr>\n",
       "  </thead>\n",
       "  <tbody>\n",
       "    <tr>\n",
       "      <th>249488</th>\n",
       "      <td>0</td>\n",
       "      <td>1</td>\n",
       "      <td>0</td>\n",
       "      <td>1</td>\n",
       "    </tr>\n",
       "    <tr>\n",
       "      <th>18034</th>\n",
       "      <td>1</td>\n",
       "      <td>0</td>\n",
       "      <td>0</td>\n",
       "      <td>1</td>\n",
       "    </tr>\n",
       "    <tr>\n",
       "      <th>202128</th>\n",
       "      <td>1</td>\n",
       "      <td>0</td>\n",
       "      <td>1</td>\n",
       "      <td>0</td>\n",
       "    </tr>\n",
       "    <tr>\n",
       "      <th>155981</th>\n",
       "      <td>1</td>\n",
       "      <td>0</td>\n",
       "      <td>1</td>\n",
       "      <td>0</td>\n",
       "    </tr>\n",
       "    <tr>\n",
       "      <th>238245</th>\n",
       "      <td>1</td>\n",
       "      <td>0</td>\n",
       "      <td>0</td>\n",
       "      <td>1</td>\n",
       "    </tr>\n",
       "    <tr>\n",
       "      <th>...</th>\n",
       "      <td>...</td>\n",
       "      <td>...</td>\n",
       "      <td>...</td>\n",
       "      <td>...</td>\n",
       "    </tr>\n",
       "    <tr>\n",
       "      <th>59193</th>\n",
       "      <td>1</td>\n",
       "      <td>0</td>\n",
       "      <td>1</td>\n",
       "      <td>0</td>\n",
       "    </tr>\n",
       "    <tr>\n",
       "      <th>89710</th>\n",
       "      <td>0</td>\n",
       "      <td>1</td>\n",
       "      <td>0</td>\n",
       "      <td>1</td>\n",
       "    </tr>\n",
       "    <tr>\n",
       "      <th>201062</th>\n",
       "      <td>0</td>\n",
       "      <td>1</td>\n",
       "      <td>0</td>\n",
       "      <td>1</td>\n",
       "    </tr>\n",
       "    <tr>\n",
       "      <th>84142</th>\n",
       "      <td>0</td>\n",
       "      <td>1</td>\n",
       "      <td>0</td>\n",
       "      <td>1</td>\n",
       "    </tr>\n",
       "    <tr>\n",
       "      <th>241875</th>\n",
       "      <td>0</td>\n",
       "      <td>1</td>\n",
       "      <td>1</td>\n",
       "      <td>0</td>\n",
       "    </tr>\n",
       "  </tbody>\n",
       "</table>\n",
       "<p>116233 rows × 4 columns</p>\n",
       "</div>"
      ],
      "text/plain": [
       "        group_treatment  landing_page_old_page  country_UK  country_US\n",
       "249488                0                      1           0           1\n",
       "18034                 1                      0           0           1\n",
       "202128                1                      0           1           0\n",
       "155981                1                      0           1           0\n",
       "238245                1                      0           0           1\n",
       "...                 ...                    ...         ...         ...\n",
       "59193                 1                      0           1           0\n",
       "89710                 0                      1           0           1\n",
       "201062                0                      1           0           1\n",
       "84142                 0                      1           0           1\n",
       "241875                0                      1           1           0\n",
       "\n",
       "[116233 rows x 4 columns]"
      ]
     },
     "execution_count": 84,
     "metadata": {},
     "output_type": "execute_result"
    }
   ],
   "source": [
    "X_train_encoded"
   ]
  },
  {
   "cell_type": "code",
   "execution_count": 103,
   "metadata": {},
   "outputs": [
    {
     "name": "stdout",
     "output_type": "stream",
     "text": [
      "Training data shape: (204794, 4)\n",
      "Testing data shape: (29059, 3)\n",
      "New training labels shape: (204794,)\n"
     ]
    }
   ],
   "source": [
    "# Apply SMOTE to address class imbalance\n",
    "smote = SMOTE(random_state=42)\n",
    "X_train_new, y_train_new = smote.fit_resample(X_train_encoded, y_train)\n",
    "\n",
    "scaler = StandardScaler()\n",
    "X_train_scaled = scaler.fit_transform(X_train_new)\n",
    "X_test_scaled = scaler.transform(X_test_encoded)\n",
    "\n",
    "# Display the shape of the data to confirm the split\n",
    "print(f\"Training data shape: {X_train_new.shape}\")\n",
    "print(f\"Testing data shape: {X_test.shape}\")\n",
    "print(f\"New training labels shape: {y_train_new.shape}\")"
   ]
  },
  {
   "cell_type": "markdown",
   "metadata": {},
   "source": [
    "<h2>\"Model Training\"</h2>"
   ]
  },
  {
   "cell_type": "code",
   "execution_count": 53,
   "metadata": {},
   "outputs": [],
   "source": [
    "from sklearn.ensemble import RandomForestClassifier, GradientBoostingClassifier\n",
    "from sklearn.svm import SVC\n",
    "from sklearn.neighbors import KNeighborsClassifier\n",
    "from xgboost import XGBClassifier\n",
    "from sklearn.linear_model import LogisticRegression\n",
    "from sklearn.metrics import accuracy_score,precision_score, recall_score, f1_score, roc_auc_score, confusion_matrix, classification_report, roc_curve, auc\n"
   ]
  },
  {
   "cell_type": "code",
   "execution_count": 88,
   "metadata": {},
   "outputs": [],
   "source": [
    "# Prepare models to evaluate\n",
    "models = {\n",
    "    'Logistic Regression': LogisticRegression(max_iter=1000),\n",
    "    'Random Forest': RandomForestClassifier(n_estimators=50, max_depth=10),\n",
    "    'Gradient Boosting': GradientBoostingClassifier(n_estimators=50, max_depth=3,learning_rate=0.1),\n",
    "    'K-Nearest Neighbors': KNeighborsClassifier(n_neighbors=5),\n",
    "    'XGBoost': XGBClassifier(use_label_encoder=False, eval_metric='logloss',n_estimators=50, max_depth=3),\n",
    "}\n"
   ]
  },
  {
   "cell_type": "code",
   "execution_count": 55,
   "metadata": {},
   "outputs": [],
   "source": [
    "from sklearn.model_selection import GridSearchCV"
   ]
  },
  {
   "cell_type": "code",
   "execution_count": 105,
   "metadata": {},
   "outputs": [
    {
     "name": "stdout",
     "output_type": "stream",
     "text": [
      "Best parameters for Logistic Regression: {'C': 0.01, 'solver': 'liblinear'}\n",
      "Best parameters for Random Forest: {'max_depth': 5, 'min_samples_split': 2, 'n_estimators': 100}\n",
      "Best parameters for Gradient Boosting: {'learning_rate': 0.01, 'max_depth': 3, 'n_estimators': 200}\n",
      "Best parameters for K-Nearest Neighbors: {'n_neighbors': 3}\n"
     ]
    },
    {
     "name": "stderr",
     "output_type": "stream",
     "text": [
      "c:\\Users\\chatu\\projects\\mlprojects\\venv\\lib\\site-packages\\xgboost\\core.py:158: UserWarning: [01:50:34] WARNING: C:\\buildkite-agent\\builds\\buildkite-windows-cpu-autoscaling-group-i-0015a694724fa8361-1\\xgboost\\xgboost-ci-windows\\src\\learner.cc:740: \n",
      "Parameters: { \"use_label_encoder\" } are not used.\n",
      "\n",
      "  warnings.warn(smsg, UserWarning)\n"
     ]
    },
    {
     "name": "stdout",
     "output_type": "stream",
     "text": [
      "Best parameters for XGBoost: {'learning_rate': 0.1, 'max_depth': 3, 'n_estimators': 50}\n"
     ]
    },
    {
     "name": "stderr",
     "output_type": "stream",
     "text": [
      "c:\\Users\\chatu\\projects\\mlprojects\\venv\\lib\\site-packages\\xgboost\\core.py:158: UserWarning: [01:50:35] WARNING: C:\\buildkite-agent\\builds\\buildkite-windows-cpu-autoscaling-group-i-0015a694724fa8361-1\\xgboost\\xgboost-ci-windows\\src\\learner.cc:740: \n",
      "Parameters: { \"use_label_encoder\" } are not used.\n",
      "\n",
      "  warnings.warn(smsg, UserWarning)\n",
      "c:\\Users\\chatu\\projects\\mlprojects\\venv\\lib\\site-packages\\xgboost\\core.py:158: UserWarning: [01:50:35] WARNING: C:\\buildkite-agent\\builds\\buildkite-windows-cpu-autoscaling-group-i-0015a694724fa8361-1\\xgboost\\xgboost-ci-windows\\src\\learner.cc:740: \n",
      "Parameters: { \"use_label_encoder\" } are not used.\n",
      "\n",
      "  warnings.warn(smsg, UserWarning)\n"
     ]
    },
    {
     "name": "stdout",
     "output_type": "stream",
     "text": [
      "                                  Model  Accuracy  Precision    Recall  \\\n",
      "0   Logistic Regression (threshold=0.3)  0.503286   0.119214  0.496675   \n",
      "1   Logistic Regression (threshold=0.5)  0.503286   0.119214  0.496675   \n",
      "2   Logistic Regression (threshold=0.7)  0.503286   0.119214  0.496675   \n",
      "3         Random Forest (threshold=0.3)  0.501153   0.117010  0.487424   \n",
      "4         Random Forest (threshold=0.5)  0.501153   0.117010  0.487424   \n",
      "5         Random Forest (threshold=0.7)  0.501153   0.117010  0.487424   \n",
      "6     Gradient Boosting (threshold=0.3)  0.501153   0.117010  0.487424   \n",
      "7     Gradient Boosting (threshold=0.5)  0.501153   0.117010  0.487424   \n",
      "8     Gradient Boosting (threshold=0.7)  0.501153   0.117010  0.487424   \n",
      "9   K-Nearest Neighbors (threshold=0.3)  0.880312   0.086957  0.000578   \n",
      "10  K-Nearest Neighbors (threshold=0.5)  0.880312   0.086957  0.000578   \n",
      "11  K-Nearest Neighbors (threshold=0.7)  0.880312   0.086957  0.000578   \n",
      "12              XGBoost (threshold=0.3)  0.501153   0.117010  0.487424   \n",
      "13              XGBoost (threshold=0.5)  0.501153   0.117010  0.487424   \n",
      "14              XGBoost (threshold=0.7)  0.501153   0.117010  0.487424   \n",
      "\n",
      "    F1 Score   ROC-AUC  \n",
      "0   0.192278  0.502800  \n",
      "1   0.192278  0.502800  \n",
      "2   0.192278  0.502800  \n",
      "3   0.188717  0.496234  \n",
      "4   0.188717  0.496241  \n",
      "5   0.188717  0.496361  \n",
      "6   0.188717  0.496216  \n",
      "7   0.188717  0.496216  \n",
      "8   0.188717  0.496216  \n",
      "9   0.001149  0.503692  \n",
      "10  0.001149  0.503692  \n",
      "11  0.001149  0.503692  \n",
      "12  0.188717  0.496216  \n",
      "13  0.188717  0.496216  \n",
      "14  0.188717  0.496216  \n"
     ]
    },
    {
     "data": {
      "text/html": [
       "<style type=\"text/css\">\n",
       "#T_fe37b_row0_col1, #T_fe37b_row1_col1, #T_fe37b_row2_col1 {\n",
       "  background-color: #440256;\n",
       "  color: #f1f1f1;\n",
       "}\n",
       "#T_fe37b_row0_col2, #T_fe37b_row0_col3, #T_fe37b_row0_col4, #T_fe37b_row1_col2, #T_fe37b_row1_col3, #T_fe37b_row1_col4, #T_fe37b_row2_col2, #T_fe37b_row2_col3, #T_fe37b_row2_col4, #T_fe37b_row9_col1, #T_fe37b_row9_col5, #T_fe37b_row10_col1, #T_fe37b_row10_col5, #T_fe37b_row11_col1, #T_fe37b_row11_col5 {\n",
       "  background-color: #fde725;\n",
       "  color: #000000;\n",
       "}\n",
       "#T_fe37b_row0_col5, #T_fe37b_row1_col5, #T_fe37b_row2_col5 {\n",
       "  background-color: #b0dd2f;\n",
       "  color: #000000;\n",
       "}\n",
       "#T_fe37b_row3_col1, #T_fe37b_row3_col5, #T_fe37b_row4_col1, #T_fe37b_row4_col5, #T_fe37b_row5_col1, #T_fe37b_row6_col1, #T_fe37b_row6_col5, #T_fe37b_row7_col1, #T_fe37b_row7_col5, #T_fe37b_row8_col1, #T_fe37b_row8_col5, #T_fe37b_row9_col2, #T_fe37b_row9_col3, #T_fe37b_row9_col4, #T_fe37b_row10_col2, #T_fe37b_row10_col3, #T_fe37b_row10_col4, #T_fe37b_row11_col2, #T_fe37b_row11_col3, #T_fe37b_row11_col4, #T_fe37b_row12_col1, #T_fe37b_row12_col5, #T_fe37b_row13_col1, #T_fe37b_row13_col5, #T_fe37b_row14_col1, #T_fe37b_row14_col5 {\n",
       "  background-color: #440154;\n",
       "  color: #f1f1f1;\n",
       "}\n",
       "#T_fe37b_row3_col2, #T_fe37b_row4_col2, #T_fe37b_row5_col2, #T_fe37b_row6_col2, #T_fe37b_row7_col2, #T_fe37b_row8_col2, #T_fe37b_row12_col2, #T_fe37b_row13_col2, #T_fe37b_row14_col2 {\n",
       "  background-color: #d2e21b;\n",
       "  color: #000000;\n",
       "}\n",
       "#T_fe37b_row3_col3, #T_fe37b_row3_col4, #T_fe37b_row4_col3, #T_fe37b_row4_col4, #T_fe37b_row5_col3, #T_fe37b_row5_col4, #T_fe37b_row6_col3, #T_fe37b_row6_col4, #T_fe37b_row7_col3, #T_fe37b_row7_col4, #T_fe37b_row8_col3, #T_fe37b_row8_col4, #T_fe37b_row12_col3, #T_fe37b_row12_col4, #T_fe37b_row13_col3, #T_fe37b_row13_col4, #T_fe37b_row14_col3, #T_fe37b_row14_col4 {\n",
       "  background-color: #f4e61e;\n",
       "  color: #000000;\n",
       "}\n",
       "#T_fe37b_row5_col5 {\n",
       "  background-color: #46075a;\n",
       "  color: #f1f1f1;\n",
       "}\n",
       "</style>\n",
       "<table id=\"T_fe37b\">\n",
       "  <thead>\n",
       "    <tr>\n",
       "      <th class=\"blank level0\" >&nbsp;</th>\n",
       "      <th id=\"T_fe37b_level0_col0\" class=\"col_heading level0 col0\" >Model</th>\n",
       "      <th id=\"T_fe37b_level0_col1\" class=\"col_heading level0 col1\" >Accuracy</th>\n",
       "      <th id=\"T_fe37b_level0_col2\" class=\"col_heading level0 col2\" >Precision</th>\n",
       "      <th id=\"T_fe37b_level0_col3\" class=\"col_heading level0 col3\" >Recall</th>\n",
       "      <th id=\"T_fe37b_level0_col4\" class=\"col_heading level0 col4\" >F1 Score</th>\n",
       "      <th id=\"T_fe37b_level0_col5\" class=\"col_heading level0 col5\" >ROC-AUC</th>\n",
       "    </tr>\n",
       "  </thead>\n",
       "  <tbody>\n",
       "    <tr>\n",
       "      <th id=\"T_fe37b_level0_row0\" class=\"row_heading level0 row0\" >0</th>\n",
       "      <td id=\"T_fe37b_row0_col0\" class=\"data row0 col0\" >Logistic Regression (threshold=0.3)</td>\n",
       "      <td id=\"T_fe37b_row0_col1\" class=\"data row0 col1\" >0.5033</td>\n",
       "      <td id=\"T_fe37b_row0_col2\" class=\"data row0 col2\" >0.1192</td>\n",
       "      <td id=\"T_fe37b_row0_col3\" class=\"data row0 col3\" >0.4967</td>\n",
       "      <td id=\"T_fe37b_row0_col4\" class=\"data row0 col4\" >0.1923</td>\n",
       "      <td id=\"T_fe37b_row0_col5\" class=\"data row0 col5\" >0.5028</td>\n",
       "    </tr>\n",
       "    <tr>\n",
       "      <th id=\"T_fe37b_level0_row1\" class=\"row_heading level0 row1\" >1</th>\n",
       "      <td id=\"T_fe37b_row1_col0\" class=\"data row1 col0\" >Logistic Regression (threshold=0.5)</td>\n",
       "      <td id=\"T_fe37b_row1_col1\" class=\"data row1 col1\" >0.5033</td>\n",
       "      <td id=\"T_fe37b_row1_col2\" class=\"data row1 col2\" >0.1192</td>\n",
       "      <td id=\"T_fe37b_row1_col3\" class=\"data row1 col3\" >0.4967</td>\n",
       "      <td id=\"T_fe37b_row1_col4\" class=\"data row1 col4\" >0.1923</td>\n",
       "      <td id=\"T_fe37b_row1_col5\" class=\"data row1 col5\" >0.5028</td>\n",
       "    </tr>\n",
       "    <tr>\n",
       "      <th id=\"T_fe37b_level0_row2\" class=\"row_heading level0 row2\" >2</th>\n",
       "      <td id=\"T_fe37b_row2_col0\" class=\"data row2 col0\" >Logistic Regression (threshold=0.7)</td>\n",
       "      <td id=\"T_fe37b_row2_col1\" class=\"data row2 col1\" >0.5033</td>\n",
       "      <td id=\"T_fe37b_row2_col2\" class=\"data row2 col2\" >0.1192</td>\n",
       "      <td id=\"T_fe37b_row2_col3\" class=\"data row2 col3\" >0.4967</td>\n",
       "      <td id=\"T_fe37b_row2_col4\" class=\"data row2 col4\" >0.1923</td>\n",
       "      <td id=\"T_fe37b_row2_col5\" class=\"data row2 col5\" >0.5028</td>\n",
       "    </tr>\n",
       "    <tr>\n",
       "      <th id=\"T_fe37b_level0_row3\" class=\"row_heading level0 row3\" >3</th>\n",
       "      <td id=\"T_fe37b_row3_col0\" class=\"data row3 col0\" >Random Forest (threshold=0.3)</td>\n",
       "      <td id=\"T_fe37b_row3_col1\" class=\"data row3 col1\" >0.5012</td>\n",
       "      <td id=\"T_fe37b_row3_col2\" class=\"data row3 col2\" >0.1170</td>\n",
       "      <td id=\"T_fe37b_row3_col3\" class=\"data row3 col3\" >0.4874</td>\n",
       "      <td id=\"T_fe37b_row3_col4\" class=\"data row3 col4\" >0.1887</td>\n",
       "      <td id=\"T_fe37b_row3_col5\" class=\"data row3 col5\" >0.4962</td>\n",
       "    </tr>\n",
       "    <tr>\n",
       "      <th id=\"T_fe37b_level0_row4\" class=\"row_heading level0 row4\" >4</th>\n",
       "      <td id=\"T_fe37b_row4_col0\" class=\"data row4 col0\" >Random Forest (threshold=0.5)</td>\n",
       "      <td id=\"T_fe37b_row4_col1\" class=\"data row4 col1\" >0.5012</td>\n",
       "      <td id=\"T_fe37b_row4_col2\" class=\"data row4 col2\" >0.1170</td>\n",
       "      <td id=\"T_fe37b_row4_col3\" class=\"data row4 col3\" >0.4874</td>\n",
       "      <td id=\"T_fe37b_row4_col4\" class=\"data row4 col4\" >0.1887</td>\n",
       "      <td id=\"T_fe37b_row4_col5\" class=\"data row4 col5\" >0.4962</td>\n",
       "    </tr>\n",
       "    <tr>\n",
       "      <th id=\"T_fe37b_level0_row5\" class=\"row_heading level0 row5\" >5</th>\n",
       "      <td id=\"T_fe37b_row5_col0\" class=\"data row5 col0\" >Random Forest (threshold=0.7)</td>\n",
       "      <td id=\"T_fe37b_row5_col1\" class=\"data row5 col1\" >0.5012</td>\n",
       "      <td id=\"T_fe37b_row5_col2\" class=\"data row5 col2\" >0.1170</td>\n",
       "      <td id=\"T_fe37b_row5_col3\" class=\"data row5 col3\" >0.4874</td>\n",
       "      <td id=\"T_fe37b_row5_col4\" class=\"data row5 col4\" >0.1887</td>\n",
       "      <td id=\"T_fe37b_row5_col5\" class=\"data row5 col5\" >0.4964</td>\n",
       "    </tr>\n",
       "    <tr>\n",
       "      <th id=\"T_fe37b_level0_row6\" class=\"row_heading level0 row6\" >6</th>\n",
       "      <td id=\"T_fe37b_row6_col0\" class=\"data row6 col0\" >Gradient Boosting (threshold=0.3)</td>\n",
       "      <td id=\"T_fe37b_row6_col1\" class=\"data row6 col1\" >0.5012</td>\n",
       "      <td id=\"T_fe37b_row6_col2\" class=\"data row6 col2\" >0.1170</td>\n",
       "      <td id=\"T_fe37b_row6_col3\" class=\"data row6 col3\" >0.4874</td>\n",
       "      <td id=\"T_fe37b_row6_col4\" class=\"data row6 col4\" >0.1887</td>\n",
       "      <td id=\"T_fe37b_row6_col5\" class=\"data row6 col5\" >0.4962</td>\n",
       "    </tr>\n",
       "    <tr>\n",
       "      <th id=\"T_fe37b_level0_row7\" class=\"row_heading level0 row7\" >7</th>\n",
       "      <td id=\"T_fe37b_row7_col0\" class=\"data row7 col0\" >Gradient Boosting (threshold=0.5)</td>\n",
       "      <td id=\"T_fe37b_row7_col1\" class=\"data row7 col1\" >0.5012</td>\n",
       "      <td id=\"T_fe37b_row7_col2\" class=\"data row7 col2\" >0.1170</td>\n",
       "      <td id=\"T_fe37b_row7_col3\" class=\"data row7 col3\" >0.4874</td>\n",
       "      <td id=\"T_fe37b_row7_col4\" class=\"data row7 col4\" >0.1887</td>\n",
       "      <td id=\"T_fe37b_row7_col5\" class=\"data row7 col5\" >0.4962</td>\n",
       "    </tr>\n",
       "    <tr>\n",
       "      <th id=\"T_fe37b_level0_row8\" class=\"row_heading level0 row8\" >8</th>\n",
       "      <td id=\"T_fe37b_row8_col0\" class=\"data row8 col0\" >Gradient Boosting (threshold=0.7)</td>\n",
       "      <td id=\"T_fe37b_row8_col1\" class=\"data row8 col1\" >0.5012</td>\n",
       "      <td id=\"T_fe37b_row8_col2\" class=\"data row8 col2\" >0.1170</td>\n",
       "      <td id=\"T_fe37b_row8_col3\" class=\"data row8 col3\" >0.4874</td>\n",
       "      <td id=\"T_fe37b_row8_col4\" class=\"data row8 col4\" >0.1887</td>\n",
       "      <td id=\"T_fe37b_row8_col5\" class=\"data row8 col5\" >0.4962</td>\n",
       "    </tr>\n",
       "    <tr>\n",
       "      <th id=\"T_fe37b_level0_row9\" class=\"row_heading level0 row9\" >9</th>\n",
       "      <td id=\"T_fe37b_row9_col0\" class=\"data row9 col0\" >K-Nearest Neighbors (threshold=0.3)</td>\n",
       "      <td id=\"T_fe37b_row9_col1\" class=\"data row9 col1\" >0.8803</td>\n",
       "      <td id=\"T_fe37b_row9_col2\" class=\"data row9 col2\" >0.0870</td>\n",
       "      <td id=\"T_fe37b_row9_col3\" class=\"data row9 col3\" >0.0006</td>\n",
       "      <td id=\"T_fe37b_row9_col4\" class=\"data row9 col4\" >0.0011</td>\n",
       "      <td id=\"T_fe37b_row9_col5\" class=\"data row9 col5\" >0.5037</td>\n",
       "    </tr>\n",
       "    <tr>\n",
       "      <th id=\"T_fe37b_level0_row10\" class=\"row_heading level0 row10\" >10</th>\n",
       "      <td id=\"T_fe37b_row10_col0\" class=\"data row10 col0\" >K-Nearest Neighbors (threshold=0.5)</td>\n",
       "      <td id=\"T_fe37b_row10_col1\" class=\"data row10 col1\" >0.8803</td>\n",
       "      <td id=\"T_fe37b_row10_col2\" class=\"data row10 col2\" >0.0870</td>\n",
       "      <td id=\"T_fe37b_row10_col3\" class=\"data row10 col3\" >0.0006</td>\n",
       "      <td id=\"T_fe37b_row10_col4\" class=\"data row10 col4\" >0.0011</td>\n",
       "      <td id=\"T_fe37b_row10_col5\" class=\"data row10 col5\" >0.5037</td>\n",
       "    </tr>\n",
       "    <tr>\n",
       "      <th id=\"T_fe37b_level0_row11\" class=\"row_heading level0 row11\" >11</th>\n",
       "      <td id=\"T_fe37b_row11_col0\" class=\"data row11 col0\" >K-Nearest Neighbors (threshold=0.7)</td>\n",
       "      <td id=\"T_fe37b_row11_col1\" class=\"data row11 col1\" >0.8803</td>\n",
       "      <td id=\"T_fe37b_row11_col2\" class=\"data row11 col2\" >0.0870</td>\n",
       "      <td id=\"T_fe37b_row11_col3\" class=\"data row11 col3\" >0.0006</td>\n",
       "      <td id=\"T_fe37b_row11_col4\" class=\"data row11 col4\" >0.0011</td>\n",
       "      <td id=\"T_fe37b_row11_col5\" class=\"data row11 col5\" >0.5037</td>\n",
       "    </tr>\n",
       "    <tr>\n",
       "      <th id=\"T_fe37b_level0_row12\" class=\"row_heading level0 row12\" >12</th>\n",
       "      <td id=\"T_fe37b_row12_col0\" class=\"data row12 col0\" >XGBoost (threshold=0.3)</td>\n",
       "      <td id=\"T_fe37b_row12_col1\" class=\"data row12 col1\" >0.5012</td>\n",
       "      <td id=\"T_fe37b_row12_col2\" class=\"data row12 col2\" >0.1170</td>\n",
       "      <td id=\"T_fe37b_row12_col3\" class=\"data row12 col3\" >0.4874</td>\n",
       "      <td id=\"T_fe37b_row12_col4\" class=\"data row12 col4\" >0.1887</td>\n",
       "      <td id=\"T_fe37b_row12_col5\" class=\"data row12 col5\" >0.4962</td>\n",
       "    </tr>\n",
       "    <tr>\n",
       "      <th id=\"T_fe37b_level0_row13\" class=\"row_heading level0 row13\" >13</th>\n",
       "      <td id=\"T_fe37b_row13_col0\" class=\"data row13 col0\" >XGBoost (threshold=0.5)</td>\n",
       "      <td id=\"T_fe37b_row13_col1\" class=\"data row13 col1\" >0.5012</td>\n",
       "      <td id=\"T_fe37b_row13_col2\" class=\"data row13 col2\" >0.1170</td>\n",
       "      <td id=\"T_fe37b_row13_col3\" class=\"data row13 col3\" >0.4874</td>\n",
       "      <td id=\"T_fe37b_row13_col4\" class=\"data row13 col4\" >0.1887</td>\n",
       "      <td id=\"T_fe37b_row13_col5\" class=\"data row13 col5\" >0.4962</td>\n",
       "    </tr>\n",
       "    <tr>\n",
       "      <th id=\"T_fe37b_level0_row14\" class=\"row_heading level0 row14\" >14</th>\n",
       "      <td id=\"T_fe37b_row14_col0\" class=\"data row14 col0\" >XGBoost (threshold=0.7)</td>\n",
       "      <td id=\"T_fe37b_row14_col1\" class=\"data row14 col1\" >0.5012</td>\n",
       "      <td id=\"T_fe37b_row14_col2\" class=\"data row14 col2\" >0.1170</td>\n",
       "      <td id=\"T_fe37b_row14_col3\" class=\"data row14 col3\" >0.4874</td>\n",
       "      <td id=\"T_fe37b_row14_col4\" class=\"data row14 col4\" >0.1887</td>\n",
       "      <td id=\"T_fe37b_row14_col5\" class=\"data row14 col5\" >0.4962</td>\n",
       "    </tr>\n",
       "  </tbody>\n",
       "</table>\n"
      ],
      "text/plain": [
       "<pandas.io.formats.style.Styler at 0x19c1a7d3d00>"
      ]
     },
     "execution_count": 105,
     "metadata": {},
     "output_type": "execute_result"
    }
   ],
   "source": [
    "# Function to evaluate the model and store results\n",
    "def evaluate_model(model, X_train, y_train, X_test, y_test, model_name):\n",
    "    model.fit(X_train, y_train)\n",
    "    y_pred = model.predict(X_test)\n",
    "    y_pred_proba = model.predict_proba(X_test)[:, 1] if hasattr(model, \"predict_proba\") else None\n",
    "\n",
    "    # Metrics\n",
    "    accuracy = accuracy_score(y_test, y_pred)\n",
    "    precision = precision_score(y_test, y_pred)\n",
    "    recall = recall_score(y_test, y_pred)\n",
    "    f1 = f1_score(y_test, y_pred)\n",
    "    roc_auc = roc_auc_score(y_test, y_pred_proba) if y_pred_proba is not None else None\n",
    "    \n",
    "    return accuracy, precision, recall, f1, roc_auc\n",
    "\n",
    "# Hyperparameter tuning setup for different models\n",
    "param_grids = {\n",
    "    'Logistic Regression': {'C': [0.01, 0.1, 1, 10], 'solver': ['liblinear', 'lbfgs']},\n",
    "    'Random Forest': {'n_estimators': [50, 100, 200], 'max_depth': [5, 10, 15], 'min_samples_split': [2, 5, 10]},\n",
    "    'Gradient Boosting': {'n_estimators': [50, 100, 200], 'learning_rate': [0.01, 0.1], 'max_depth': [3, 5]},\n",
    "    'K-Nearest Neighbors': {'n_neighbors': [3, 5, 7, 9]},\n",
    "    'XGBoost': {'n_estimators': [50, 100, 200], 'max_depth': [3, 5, 7], 'learning_rate': [0.01, 0.1]}\n",
    "}\n",
    "#To store the result\n",
    "results_list=[]\n",
    "\n",
    "# Evaluate each model and store the results in the DataFrame\n",
    "for model_name, model in models.items():\n",
    "    param_grid = param_grids.get(model_name, {})\n",
    "    grid_search = GridSearchCV(model, param_grid, cv=5, scoring='f1', n_jobs=-1)\n",
    "    grid_search.fit(X_train_scaled, y_train_new)\n",
    "    \n",
    "    best_model = grid_search.best_estimator_\n",
    "    print(f\"Best parameters for {model_name}: {grid_search.best_params_}\")\n",
    "    \n",
    "    # Try different thresholds (e.g., 0.3, 0.5, 0.7) to improve precision/recall balance\n",
    "    thresholds = [0.3, 0.5, 0.7]\n",
    "    for threshold in thresholds:\n",
    "        accuracy, precision, recall, f1, roc_auc = evaluate_model(best_model, X_train_scaled, y_train_new, X_test_scaled, y_test, threshold)\n",
    "        \n",
    "        # Add to results DataFrame\n",
    "        results_list.append({\n",
    "            'Model': f\"{model_name} (threshold={threshold})\",\n",
    "            'Accuracy': accuracy,\n",
    "            'Precision': precision,\n",
    "            'Recall': recall,\n",
    "            'F1 Score': f1,\n",
    "            'ROC-AUC': roc_auc\n",
    "        })\n",
    "# Create DataFrame from results\n",
    "results_df = pd.DataFrame(results_list)\n",
    "\n",
    "# Display the results\n",
    "print(results_df)\n",
    "results_df.style.background_gradient(cmap='viridis').format(precision=4)"
   ]
  },
  {
   "cell_type": "code",
   "execution_count": 58,
   "metadata": {},
   "outputs": [
    {
     "name": "stderr",
     "output_type": "stream",
     "text": [
      "  WARNING: Failed to remove contents in a temporary directory 'C:\\Users\\chatu\\projects\\mlprojects\\venv\\Lib\\site-packages\\~umpy'.\n",
      "  You can safely remove it manually.\n"
     ]
    },
    {
     "name": "stdout",
     "output_type": "stream",
     "text": [
      "Collecting tensorflow\n",
      "  Downloading tensorflow-2.13.1-cp38-cp38-win_amd64.whl.metadata (2.6 kB)\n",
      "INFO: pip is looking at multiple versions of tensorflow to determine which version is compatible with other requirements. This could take a while.\n",
      "  Downloading tensorflow-2.13.0-cp38-cp38-win_amd64.whl.metadata (2.6 kB)\n",
      "Collecting tensorflow-intel==2.13.0 (from tensorflow)\n",
      "  Downloading tensorflow_intel-2.13.0-cp38-cp38-win_amd64.whl.metadata (4.1 kB)\n",
      "Collecting absl-py>=1.0.0 (from tensorflow-intel==2.13.0->tensorflow)\n",
      "  Downloading absl_py-2.1.0-py3-none-any.whl.metadata (2.3 kB)\n",
      "Collecting astunparse>=1.6.0 (from tensorflow-intel==2.13.0->tensorflow)\n",
      "  Downloading astunparse-1.6.3-py2.py3-none-any.whl.metadata (4.4 kB)\n",
      "Collecting flatbuffers>=23.1.21 (from tensorflow-intel==2.13.0->tensorflow)\n",
      "  Downloading flatbuffers-24.3.25-py2.py3-none-any.whl.metadata (850 bytes)\n",
      "Collecting gast<=0.4.0,>=0.2.1 (from tensorflow-intel==2.13.0->tensorflow)\n",
      "  Downloading gast-0.4.0-py3-none-any.whl.metadata (1.1 kB)\n",
      "Collecting google-pasta>=0.1.1 (from tensorflow-intel==2.13.0->tensorflow)\n",
      "  Downloading google_pasta-0.2.0-py3-none-any.whl.metadata (814 bytes)\n",
      "Collecting h5py>=2.9.0 (from tensorflow-intel==2.13.0->tensorflow)\n",
      "  Downloading h5py-3.11.0-cp38-cp38-win_amd64.whl.metadata (2.5 kB)\n",
      "Collecting libclang>=13.0.0 (from tensorflow-intel==2.13.0->tensorflow)\n",
      "  Downloading libclang-18.1.1-py2.py3-none-win_amd64.whl.metadata (5.3 kB)\n",
      "Collecting numpy<=1.24.3,>=1.22 (from tensorflow-intel==2.13.0->tensorflow)\n",
      "  Downloading numpy-1.24.3-cp38-cp38-win_amd64.whl.metadata (5.6 kB)\n",
      "Collecting opt-einsum>=2.3.2 (from tensorflow-intel==2.13.0->tensorflow)\n",
      "  Downloading opt_einsum-3.4.0-py3-none-any.whl.metadata (6.3 kB)\n",
      "Requirement already satisfied: packaging in c:\\users\\chatu\\projects\\mlprojects\\venv\\lib\\site-packages (from tensorflow-intel==2.13.0->tensorflow) (24.1)\n",
      "Collecting protobuf!=4.21.0,!=4.21.1,!=4.21.2,!=4.21.3,!=4.21.4,!=4.21.5,<5.0.0dev,>=3.20.3 (from tensorflow-intel==2.13.0->tensorflow)\n",
      "  Downloading protobuf-4.25.5-cp38-cp38-win_amd64.whl.metadata (541 bytes)\n",
      "Requirement already satisfied: setuptools in c:\\users\\chatu\\projects\\mlprojects\\venv\\lib\\site-packages (from tensorflow-intel==2.13.0->tensorflow) (72.1.0)\n",
      "Requirement already satisfied: six>=1.12.0 in c:\\users\\chatu\\projects\\mlprojects\\venv\\lib\\site-packages (from tensorflow-intel==2.13.0->tensorflow) (1.16.0)\n",
      "Collecting termcolor>=1.1.0 (from tensorflow-intel==2.13.0->tensorflow)\n",
      "  Downloading termcolor-2.4.0-py3-none-any.whl.metadata (6.1 kB)\n",
      "Collecting typing-extensions<4.6.0,>=3.6.6 (from tensorflow-intel==2.13.0->tensorflow)\n",
      "  Downloading typing_extensions-4.5.0-py3-none-any.whl.metadata (8.5 kB)\n",
      "Collecting wrapt>=1.11.0 (from tensorflow-intel==2.13.0->tensorflow)\n",
      "  Downloading wrapt-1.16.0-cp38-cp38-win_amd64.whl.metadata (6.8 kB)\n",
      "Collecting grpcio<2.0,>=1.24.3 (from tensorflow-intel==2.13.0->tensorflow)\n",
      "  Downloading grpcio-1.66.2-cp38-cp38-win_amd64.whl.metadata (4.0 kB)\n",
      "Collecting tensorboard<2.14,>=2.13 (from tensorflow-intel==2.13.0->tensorflow)\n",
      "  Downloading tensorboard-2.13.0-py3-none-any.whl.metadata (1.8 kB)\n",
      "Collecting tensorflow-estimator<2.14,>=2.13.0 (from tensorflow-intel==2.13.0->tensorflow)\n",
      "  Downloading tensorflow_estimator-2.13.0-py2.py3-none-any.whl.metadata (1.3 kB)\n",
      "Collecting keras<2.14,>=2.13.1 (from tensorflow-intel==2.13.0->tensorflow)\n",
      "  Downloading keras-2.13.1-py3-none-any.whl.metadata (2.4 kB)\n",
      "Collecting tensorflow-io-gcs-filesystem>=0.23.1 (from tensorflow-intel==2.13.0->tensorflow)\n",
      "  Downloading tensorflow_io_gcs_filesystem-0.31.0-cp38-cp38-win_amd64.whl.metadata (14 kB)\n",
      "Requirement already satisfied: wheel<1.0,>=0.23.0 in c:\\users\\chatu\\projects\\mlprojects\\venv\\lib\\site-packages (from astunparse>=1.6.0->tensorflow-intel==2.13.0->tensorflow) (0.43.0)\n",
      "Collecting google-auth<3,>=1.6.3 (from tensorboard<2.14,>=2.13->tensorflow-intel==2.13.0->tensorflow)\n",
      "  Downloading google_auth-2.35.0-py2.py3-none-any.whl.metadata (4.7 kB)\n",
      "Collecting google-auth-oauthlib<1.1,>=0.5 (from tensorboard<2.14,>=2.13->tensorflow-intel==2.13.0->tensorflow)\n",
      "  Downloading google_auth_oauthlib-1.0.0-py2.py3-none-any.whl.metadata (2.7 kB)\n",
      "Collecting markdown>=2.6.8 (from tensorboard<2.14,>=2.13->tensorflow-intel==2.13.0->tensorflow)\n",
      "  Downloading Markdown-3.7-py3-none-any.whl.metadata (7.0 kB)\n",
      "Collecting requests<3,>=2.21.0 (from tensorboard<2.14,>=2.13->tensorflow-intel==2.13.0->tensorflow)\n",
      "  Downloading requests-2.32.3-py3-none-any.whl.metadata (4.6 kB)\n",
      "Collecting tensorboard-data-server<0.8.0,>=0.7.0 (from tensorboard<2.14,>=2.13->tensorflow-intel==2.13.0->tensorflow)\n",
      "  Downloading tensorboard_data_server-0.7.2-py3-none-any.whl.metadata (1.1 kB)\n",
      "Requirement already satisfied: werkzeug>=1.0.1 in c:\\users\\chatu\\projects\\mlprojects\\venv\\lib\\site-packages (from tensorboard<2.14,>=2.13->tensorflow-intel==2.13.0->tensorflow) (3.0.4)\n",
      "Collecting cachetools<6.0,>=2.0.0 (from google-auth<3,>=1.6.3->tensorboard<2.14,>=2.13->tensorflow-intel==2.13.0->tensorflow)\n",
      "  Downloading cachetools-5.5.0-py3-none-any.whl.metadata (5.3 kB)\n",
      "Collecting pyasn1-modules>=0.2.1 (from google-auth<3,>=1.6.3->tensorboard<2.14,>=2.13->tensorflow-intel==2.13.0->tensorflow)\n",
      "  Downloading pyasn1_modules-0.4.1-py3-none-any.whl.metadata (3.5 kB)\n",
      "Collecting rsa<5,>=3.1.4 (from google-auth<3,>=1.6.3->tensorboard<2.14,>=2.13->tensorflow-intel==2.13.0->tensorflow)\n",
      "  Downloading rsa-4.9-py3-none-any.whl.metadata (4.2 kB)\n",
      "Collecting requests-oauthlib>=0.7.0 (from google-auth-oauthlib<1.1,>=0.5->tensorboard<2.14,>=2.13->tensorflow-intel==2.13.0->tensorflow)\n",
      "  Downloading requests_oauthlib-2.0.0-py2.py3-none-any.whl.metadata (11 kB)\n",
      "Requirement already satisfied: importlib-metadata>=4.4 in c:\\users\\chatu\\projects\\mlprojects\\venv\\lib\\site-packages (from markdown>=2.6.8->tensorboard<2.14,>=2.13->tensorflow-intel==2.13.0->tensorflow) (8.4.0)\n",
      "Collecting charset-normalizer<4,>=2 (from requests<3,>=2.21.0->tensorboard<2.14,>=2.13->tensorflow-intel==2.13.0->tensorflow)\n",
      "  Downloading charset_normalizer-3.3.2-cp38-cp38-win_amd64.whl.metadata (34 kB)\n",
      "Collecting idna<4,>=2.5 (from requests<3,>=2.21.0->tensorboard<2.14,>=2.13->tensorflow-intel==2.13.0->tensorflow)\n",
      "  Downloading idna-3.10-py3-none-any.whl.metadata (10 kB)\n",
      "Collecting urllib3<3,>=1.21.1 (from requests<3,>=2.21.0->tensorboard<2.14,>=2.13->tensorflow-intel==2.13.0->tensorflow)\n",
      "  Downloading urllib3-2.2.3-py3-none-any.whl.metadata (6.5 kB)\n",
      "Collecting certifi>=2017.4.17 (from requests<3,>=2.21.0->tensorboard<2.14,>=2.13->tensorflow-intel==2.13.0->tensorflow)\n",
      "  Downloading certifi-2024.8.30-py3-none-any.whl.metadata (2.2 kB)\n",
      "Requirement already satisfied: MarkupSafe>=2.1.1 in c:\\users\\chatu\\projects\\mlprojects\\venv\\lib\\site-packages (from werkzeug>=1.0.1->tensorboard<2.14,>=2.13->tensorflow-intel==2.13.0->tensorflow) (2.1.5)\n",
      "Requirement already satisfied: zipp>=0.5 in c:\\users\\chatu\\projects\\mlprojects\\venv\\lib\\site-packages (from importlib-metadata>=4.4->markdown>=2.6.8->tensorboard<2.14,>=2.13->tensorflow-intel==2.13.0->tensorflow) (3.20.1)\n",
      "Collecting pyasn1<0.7.0,>=0.4.6 (from pyasn1-modules>=0.2.1->google-auth<3,>=1.6.3->tensorboard<2.14,>=2.13->tensorflow-intel==2.13.0->tensorflow)\n",
      "  Downloading pyasn1-0.6.1-py3-none-any.whl.metadata (8.4 kB)\n",
      "Collecting oauthlib>=3.0.0 (from requests-oauthlib>=0.7.0->google-auth-oauthlib<1.1,>=0.5->tensorboard<2.14,>=2.13->tensorflow-intel==2.13.0->tensorflow)\n",
      "  Downloading oauthlib-3.2.2-py3-none-any.whl.metadata (7.5 kB)\n",
      "Downloading tensorflow-2.13.0-cp38-cp38-win_amd64.whl (1.9 kB)\n",
      "Downloading tensorflow_intel-2.13.0-cp38-cp38-win_amd64.whl (276.5 MB)\n",
      "   ---------------------------------------- 0.0/276.5 MB ? eta -:--:--\n",
      "    --------------------------------------- 5.8/276.5 MB 29.4 MB/s eta 0:00:10\n",
      "   - -------------------------------------- 10.0/276.5 MB 23.9 MB/s eta 0:00:12\n",
      "   -- ------------------------------------- 14.4/276.5 MB 22.1 MB/s eta 0:00:12\n",
      "   -- ------------------------------------- 18.4/276.5 MB 21.4 MB/s eta 0:00:13\n",
      "   --- ------------------------------------ 22.8/276.5 MB 21.5 MB/s eta 0:00:12\n",
      "   --- ------------------------------------ 27.0/276.5 MB 21.1 MB/s eta 0:00:12\n",
      "   ---- ----------------------------------- 31.2/276.5 MB 20.8 MB/s eta 0:00:12\n",
      "   ----- ---------------------------------- 35.4/276.5 MB 20.4 MB/s eta 0:00:12\n",
      "   ----- ---------------------------------- 39.6/276.5 MB 20.5 MB/s eta 0:00:12\n",
      "   ------ --------------------------------- 43.8/276.5 MB 20.3 MB/s eta 0:00:12\n",
      "   ------ --------------------------------- 48.0/276.5 MB 20.2 MB/s eta 0:00:12\n",
      "   ------- -------------------------------- 52.2/276.5 MB 20.1 MB/s eta 0:00:12\n",
      "   -------- ------------------------------- 56.4/276.5 MB 20.2 MB/s eta 0:00:11\n",
      "   -------- ------------------------------- 60.3/276.5 MB 20.0 MB/s eta 0:00:11\n",
      "   --------- ------------------------------ 64.5/276.5 MB 20.0 MB/s eta 0:00:11\n",
      "   --------- ------------------------------ 68.7/276.5 MB 19.9 MB/s eta 0:00:11\n",
      "   ---------- ----------------------------- 72.9/276.5 MB 19.9 MB/s eta 0:00:11\n",
      "   ----------- ---------------------------- 77.1/276.5 MB 19.8 MB/s eta 0:00:11\n",
      "   ----------- ---------------------------- 81.3/276.5 MB 19.8 MB/s eta 0:00:10\n",
      "   ------------ --------------------------- 85.5/276.5 MB 19.8 MB/s eta 0:00:10\n",
      "   ------------ --------------------------- 89.7/276.5 MB 19.8 MB/s eta 0:00:10\n",
      "   ------------- -------------------------- 93.8/276.5 MB 19.8 MB/s eta 0:00:10\n",
      "   -------------- ------------------------- 98.0/276.5 MB 19.7 MB/s eta 0:00:10\n",
      "   -------------- ------------------------ 102.2/276.5 MB 19.7 MB/s eta 0:00:09\n",
      "   --------------- ----------------------- 106.4/276.5 MB 19.7 MB/s eta 0:00:09\n",
      "   --------------- ----------------------- 110.6/276.5 MB 19.7 MB/s eta 0:00:09\n",
      "   ---------------- ---------------------- 114.8/276.5 MB 19.7 MB/s eta 0:00:09\n",
      "   ---------------- ---------------------- 119.0/276.5 MB 19.7 MB/s eta 0:00:08\n",
      "   ----------------- --------------------- 123.2/276.5 MB 19.7 MB/s eta 0:00:08\n",
      "   ----------------- --------------------- 127.1/276.5 MB 19.7 MB/s eta 0:00:08\n",
      "   ------------------ -------------------- 131.3/276.5 MB 19.6 MB/s eta 0:00:08\n",
      "   ------------------- ------------------- 135.5/276.5 MB 19.6 MB/s eta 0:00:08\n",
      "   ------------------- ------------------- 139.7/276.5 MB 19.7 MB/s eta 0:00:07\n",
      "   -------------------- ------------------ 143.9/276.5 MB 19.6 MB/s eta 0:00:07\n",
      "   -------------------- ------------------ 148.4/276.5 MB 19.7 MB/s eta 0:00:07\n",
      "   --------------------- ----------------- 152.0/276.5 MB 19.6 MB/s eta 0:00:07\n",
      "   ---------------------- ---------------- 156.2/276.5 MB 19.6 MB/s eta 0:00:07\n",
      "   ---------------------- ---------------- 160.4/276.5 MB 19.6 MB/s eta 0:00:06\n",
      "   ----------------------- --------------- 164.6/276.5 MB 19.6 MB/s eta 0:00:06\n",
      "   ----------------------- --------------- 169.1/276.5 MB 19.6 MB/s eta 0:00:06\n",
      "   ------------------------ -------------- 173.3/276.5 MB 19.6 MB/s eta 0:00:06\n",
      "   ------------------------- ------------- 177.5/276.5 MB 19.6 MB/s eta 0:00:06\n",
      "   ------------------------- ------------- 181.7/276.5 MB 19.6 MB/s eta 0:00:05\n",
      "   -------------------------- ------------ 185.9/276.5 MB 19.6 MB/s eta 0:00:05\n",
      "   -------------------------- ------------ 190.1/276.5 MB 19.6 MB/s eta 0:00:05\n",
      "   --------------------------- ----------- 194.2/276.5 MB 19.6 MB/s eta 0:00:05\n",
      "   --------------------------- ----------- 198.4/276.5 MB 19.6 MB/s eta 0:00:04\n",
      "   ---------------------------- ---------- 202.6/276.5 MB 19.6 MB/s eta 0:00:04\n",
      "   ----------------------------- --------- 206.8/276.5 MB 19.6 MB/s eta 0:00:04\n",
      "   ----------------------------- --------- 211.0/276.5 MB 19.6 MB/s eta 0:00:04\n",
      "   ------------------------------ -------- 215.2/276.5 MB 19.6 MB/s eta 0:00:04\n",
      "   ------------------------------ -------- 219.4/276.5 MB 19.6 MB/s eta 0:00:03\n",
      "   ------------------------------- ------- 223.6/276.5 MB 19.6 MB/s eta 0:00:03\n",
      "   -------------------------------- ------ 227.5/276.5 MB 19.6 MB/s eta 0:00:03\n",
      "   -------------------------------- ------ 231.7/276.5 MB 19.6 MB/s eta 0:00:03\n",
      "   --------------------------------- ----- 235.9/276.5 MB 19.6 MB/s eta 0:00:03\n",
      "   --------------------------------- ----- 240.1/276.5 MB 19.6 MB/s eta 0:00:02\n",
      "   ---------------------------------- ---- 244.3/276.5 MB 19.5 MB/s eta 0:00:02\n",
      "   ----------------------------------- --- 248.5/276.5 MB 19.5 MB/s eta 0:00:02\n",
      "   ----------------------------------- --- 252.7/276.5 MB 19.5 MB/s eta 0:00:02\n",
      "   ------------------------------------ -- 257.2/276.5 MB 19.6 MB/s eta 0:00:01\n",
      "   ------------------------------------ -- 261.1/276.5 MB 19.5 MB/s eta 0:00:01\n",
      "   ------------------------------------- - 265.0/276.5 MB 19.5 MB/s eta 0:00:01\n",
      "   ------------------------------------- - 269.2/276.5 MB 19.4 MB/s eta 0:00:01\n",
      "   --------------------------------------  273.4/276.5 MB 19.4 MB/s eta 0:00:01\n",
      "   --------------------------------------  276.3/276.5 MB 19.4 MB/s eta 0:00:01\n",
      "   --------------------------------------  276.3/276.5 MB 19.4 MB/s eta 0:00:01\n",
      "   --------------------------------------  276.3/276.5 MB 19.4 MB/s eta 0:00:01\n",
      "   --------------------------------------- 276.5/276.5 MB 18.5 MB/s eta 0:00:00\n",
      "Downloading absl_py-2.1.0-py3-none-any.whl (133 kB)\n",
      "Downloading astunparse-1.6.3-py2.py3-none-any.whl (12 kB)\n",
      "Downloading flatbuffers-24.3.25-py2.py3-none-any.whl (26 kB)\n",
      "Downloading gast-0.4.0-py3-none-any.whl (9.8 kB)\n",
      "Downloading google_pasta-0.2.0-py3-none-any.whl (57 kB)\n",
      "Downloading grpcio-1.66.2-cp38-cp38-win_amd64.whl (4.3 MB)\n",
      "   ---------------------------------------- 0.0/4.3 MB ? eta -:--:--\n",
      "   ---------------------------------------- 4.3/4.3 MB 28.6 MB/s eta 0:00:00\n",
      "Downloading h5py-3.11.0-cp38-cp38-win_amd64.whl (3.0 MB)\n",
      "   ---------------------------------------- 0.0/3.0 MB ? eta -:--:--\n",
      "   ---------------------------------------- 3.0/3.0 MB 25.0 MB/s eta 0:00:00\n",
      "Downloading keras-2.13.1-py3-none-any.whl (1.7 MB)\n",
      "   ---------------------------------------- 0.0/1.7 MB ? eta -:--:--\n",
      "   ---------------------------------------- 1.7/1.7 MB 30.7 MB/s eta 0:00:00\n",
      "Downloading libclang-18.1.1-py2.py3-none-win_amd64.whl (26.4 MB)\n",
      "   ---------------------------------------- 0.0/26.4 MB ? eta -:--:--\n",
      "   ---- ----------------------------------- 3.1/26.4 MB 23.1 MB/s eta 0:00:02\n",
      "   ------------- -------------------------- 8.7/26.4 MB 20.6 MB/s eta 0:00:01\n",
      "   ------------------- -------------------- 12.8/26.4 MB 20.1 MB/s eta 0:00:01\n",
      "   ------------------------- -------------- 17.0/26.4 MB 19.9 MB/s eta 0:00:01\n",
      "   -------------------------------- ------- 21.2/26.4 MB 20.0 MB/s eta 0:00:01\n",
      "   -------------------------------------- - 25.4/26.4 MB 19.9 MB/s eta 0:00:01\n",
      "   ---------------------------------------- 26.4/26.4 MB 18.6 MB/s eta 0:00:00\n",
      "Downloading numpy-1.24.3-cp38-cp38-win_amd64.whl (14.9 MB)\n",
      "   ---------------------------------------- 0.0/14.9 MB ? eta -:--:--\n",
      "   ---------------- ----------------------- 6.0/14.9 MB 28.4 MB/s eta 0:00:01\n",
      "   --------------------------- ------------ 10.2/14.9 MB 23.6 MB/s eta 0:00:01\n",
      "   -------------------------------------- - 14.4/14.9 MB 22.6 MB/s eta 0:00:01\n",
      "   ---------------------------------------- 14.9/14.9 MB 20.3 MB/s eta 0:00:00\n",
      "Downloading opt_einsum-3.4.0-py3-none-any.whl (71 kB)\n",
      "Downloading protobuf-4.25.5-cp38-cp38-win_amd64.whl (413 kB)\n",
      "Downloading tensorboard-2.13.0-py3-none-any.whl (5.6 MB)\n",
      "   ---------------------------------------- 0.0/5.6 MB ? eta -:--:--\n",
      "   ---------------------------------------  5.5/5.6 MB 30.5 MB/s eta 0:00:01\n",
      "   ---------------------------------------- 5.6/5.6 MB 24.2 MB/s eta 0:00:00\n",
      "Downloading tensorflow_estimator-2.13.0-py2.py3-none-any.whl (440 kB)\n",
      "Downloading tensorflow_io_gcs_filesystem-0.31.0-cp38-cp38-win_amd64.whl (1.5 MB)\n",
      "   ---------------------------------------- 0.0/1.5 MB ? eta -:--:--\n",
      "   ---------------------------------------- 1.5/1.5 MB 39.5 MB/s eta 0:00:00\n",
      "Downloading termcolor-2.4.0-py3-none-any.whl (7.7 kB)\n",
      "Downloading typing_extensions-4.5.0-py3-none-any.whl (27 kB)\n",
      "Downloading wrapt-1.16.0-cp38-cp38-win_amd64.whl (37 kB)\n",
      "Downloading google_auth-2.35.0-py2.py3-none-any.whl (208 kB)\n",
      "Downloading google_auth_oauthlib-1.0.0-py2.py3-none-any.whl (18 kB)\n",
      "Downloading Markdown-3.7-py3-none-any.whl (106 kB)\n",
      "Downloading requests-2.32.3-py3-none-any.whl (64 kB)\n",
      "Downloading tensorboard_data_server-0.7.2-py3-none-any.whl (2.4 kB)\n",
      "Downloading cachetools-5.5.0-py3-none-any.whl (9.5 kB)\n",
      "Downloading certifi-2024.8.30-py3-none-any.whl (167 kB)\n",
      "Downloading charset_normalizer-3.3.2-cp38-cp38-win_amd64.whl (99 kB)\n",
      "Downloading idna-3.10-py3-none-any.whl (70 kB)\n",
      "Downloading pyasn1_modules-0.4.1-py3-none-any.whl (181 kB)\n",
      "Downloading requests_oauthlib-2.0.0-py2.py3-none-any.whl (24 kB)\n",
      "Downloading rsa-4.9-py3-none-any.whl (34 kB)\n",
      "Downloading urllib3-2.2.3-py3-none-any.whl (126 kB)\n",
      "Downloading oauthlib-3.2.2-py3-none-any.whl (151 kB)\n",
      "Downloading pyasn1-0.6.1-py3-none-any.whl (83 kB)\n",
      "Installing collected packages: libclang, flatbuffers, wrapt, urllib3, typing-extensions, termcolor, tensorflow-io-gcs-filesystem, tensorflow-estimator, tensorboard-data-server, pyasn1, protobuf, opt-einsum, oauthlib, numpy, keras, idna, grpcio, google-pasta, gast, charset-normalizer, certifi, cachetools, astunparse, absl-py, rsa, requests, pyasn1-modules, markdown, h5py, requests-oauthlib, google-auth, google-auth-oauthlib, tensorboard, tensorflow-intel, tensorflow\n",
      "  Attempting uninstall: typing-extensions\n",
      "    Found existing installation: typing_extensions 4.12.2\n",
      "    Uninstalling typing_extensions-4.12.2:\n",
      "      Successfully uninstalled typing_extensions-4.12.2\n",
      "  Attempting uninstall: numpy\n",
      "    Found existing installation: numpy 1.24.4\n",
      "    Uninstalling numpy-1.24.4:\n",
      "      Successfully uninstalled numpy-1.24.4\n",
      "Successfully installed absl-py-2.1.0 astunparse-1.6.3 cachetools-5.5.0 certifi-2024.8.30 charset-normalizer-3.3.2 flatbuffers-24.3.25 gast-0.4.0 google-auth-2.35.0 google-auth-oauthlib-1.0.0 google-pasta-0.2.0 grpcio-1.66.2 h5py-3.11.0 idna-3.10 keras-2.13.1 libclang-18.1.1 markdown-3.7 numpy-1.24.3 oauthlib-3.2.2 opt-einsum-3.4.0 protobuf-4.25.5 pyasn1-0.6.1 pyasn1-modules-0.4.1 requests-2.32.3 requests-oauthlib-2.0.0 rsa-4.9 tensorboard-2.13.0 tensorboard-data-server-0.7.2 tensorflow-2.13.0 tensorflow-estimator-2.13.0 tensorflow-intel-2.13.0 tensorflow-io-gcs-filesystem-0.31.0 termcolor-2.4.0 typing-extensions-4.5.0 urllib3-2.2.3 wrapt-1.16.0\n",
      "Note: you may need to restart the kernel to use updated packages.\n"
     ]
    }
   ],
   "source": [
    "%pip install tensorflow\n"
   ]
  },
  {
   "cell_type": "code",
   "execution_count": 59,
   "metadata": {},
   "outputs": [],
   "source": [
    "import tensorflow as tf\n",
    "from tensorflow import keras\n",
    "from tensorflow.keras import layers"
   ]
  },
  {
   "cell_type": "code",
   "execution_count": 60,
   "metadata": {},
   "outputs": [
    {
     "name": "stdout",
     "output_type": "stream",
     "text": [
      "Epoch 1/50\n",
      "2906/2906 [==============================] - 6s 2ms/step - loss: 0.3700 - accuracy: 0.8793 - val_loss: 0.3621 - val_accuracy: 0.8826\n",
      "Epoch 2/50\n",
      "2906/2906 [==============================] - 5s 2ms/step - loss: 0.3668 - accuracy: 0.8806 - val_loss: 0.3629 - val_accuracy: 0.8826\n",
      "Epoch 3/50\n",
      "2906/2906 [==============================] - 5s 2ms/step - loss: 0.3667 - accuracy: 0.8806 - val_loss: 0.3642 - val_accuracy: 0.8826\n",
      "Epoch 4/50\n",
      "2906/2906 [==============================] - 5s 2ms/step - loss: 0.3665 - accuracy: 0.8806 - val_loss: 0.3628 - val_accuracy: 0.8826\n",
      "Epoch 5/50\n",
      "2906/2906 [==============================] - 5s 2ms/step - loss: 0.3665 - accuracy: 0.8806 - val_loss: 0.3628 - val_accuracy: 0.8826\n",
      "Epoch 6/50\n",
      "2906/2906 [==============================] - 5s 2ms/step - loss: 0.3666 - accuracy: 0.8806 - val_loss: 0.3630 - val_accuracy: 0.8826\n",
      "Epoch 7/50\n",
      "2906/2906 [==============================] - 5s 2ms/step - loss: 0.3665 - accuracy: 0.8806 - val_loss: 0.3618 - val_accuracy: 0.8826\n",
      "Epoch 8/50\n",
      "2906/2906 [==============================] - 5s 2ms/step - loss: 0.3664 - accuracy: 0.8806 - val_loss: 0.3619 - val_accuracy: 0.8826\n",
      "Epoch 9/50\n",
      "2906/2906 [==============================] - 5s 2ms/step - loss: 0.3664 - accuracy: 0.8806 - val_loss: 0.3618 - val_accuracy: 0.8826\n",
      "Epoch 10/50\n",
      "2906/2906 [==============================] - 4s 2ms/step - loss: 0.3663 - accuracy: 0.8806 - val_loss: 0.3619 - val_accuracy: 0.8826\n",
      "Epoch 11/50\n",
      "2906/2906 [==============================] - 5s 2ms/step - loss: 0.3662 - accuracy: 0.8806 - val_loss: 0.3625 - val_accuracy: 0.8826\n",
      "Epoch 12/50\n",
      "2906/2906 [==============================] - 4s 1ms/step - loss: 0.3662 - accuracy: 0.8806 - val_loss: 0.3638 - val_accuracy: 0.8826\n",
      "Epoch 13/50\n",
      "2906/2906 [==============================] - 4s 2ms/step - loss: 0.3662 - accuracy: 0.8806 - val_loss: 0.3620 - val_accuracy: 0.8826\n",
      "Epoch 14/50\n",
      "2906/2906 [==============================] - 5s 2ms/step - loss: 0.3662 - accuracy: 0.8806 - val_loss: 0.3620 - val_accuracy: 0.8826\n",
      "Epoch 15/50\n",
      "2906/2906 [==============================] - 5s 2ms/step - loss: 0.3661 - accuracy: 0.8806 - val_loss: 0.3621 - val_accuracy: 0.8826\n",
      "Epoch 16/50\n",
      "2906/2906 [==============================] - 5s 2ms/step - loss: 0.3662 - accuracy: 0.8806 - val_loss: 0.3626 - val_accuracy: 0.8826\n",
      "Epoch 17/50\n",
      "2906/2906 [==============================] - 5s 2ms/step - loss: 0.3662 - accuracy: 0.8806 - val_loss: 0.3621 - val_accuracy: 0.8826\n",
      "Epoch 18/50\n",
      "2906/2906 [==============================] - 5s 2ms/step - loss: 0.3662 - accuracy: 0.8806 - val_loss: 0.3618 - val_accuracy: 0.8826\n",
      "Epoch 19/50\n",
      "2906/2906 [==============================] - 5s 2ms/step - loss: 0.3661 - accuracy: 0.8806 - val_loss: 0.3618 - val_accuracy: 0.8826\n",
      "Epoch 20/50\n",
      "2906/2906 [==============================] - 5s 2ms/step - loss: 0.3662 - accuracy: 0.8806 - val_loss: 0.3620 - val_accuracy: 0.8826\n",
      "Epoch 21/50\n",
      "2906/2906 [==============================] - 5s 2ms/step - loss: 0.3661 - accuracy: 0.8806 - val_loss: 0.3620 - val_accuracy: 0.8826\n",
      "Epoch 22/50\n",
      "2906/2906 [==============================] - 5s 2ms/step - loss: 0.3661 - accuracy: 0.8806 - val_loss: 0.3621 - val_accuracy: 0.8826\n",
      "Epoch 23/50\n",
      "2906/2906 [==============================] - 4s 2ms/step - loss: 0.3660 - accuracy: 0.8806 - val_loss: 0.3623 - val_accuracy: 0.8826\n",
      "Epoch 24/50\n",
      "2906/2906 [==============================] - 5s 2ms/step - loss: 0.3661 - accuracy: 0.8805 - val_loss: 0.3631 - val_accuracy: 0.8826\n",
      "Epoch 25/50\n",
      "2906/2906 [==============================] - 5s 2ms/step - loss: 0.3661 - accuracy: 0.8806 - val_loss: 0.3619 - val_accuracy: 0.8826\n",
      "Epoch 26/50\n",
      "2906/2906 [==============================] - 5s 2ms/step - loss: 0.3661 - accuracy: 0.8806 - val_loss: 0.3621 - val_accuracy: 0.8826\n",
      "Epoch 27/50\n",
      "2906/2906 [==============================] - 5s 2ms/step - loss: 0.3661 - accuracy: 0.8806 - val_loss: 0.3619 - val_accuracy: 0.8826\n",
      "Epoch 28/50\n",
      "2906/2906 [==============================] - 5s 2ms/step - loss: 0.3660 - accuracy: 0.8806 - val_loss: 0.3621 - val_accuracy: 0.8826\n",
      "Epoch 29/50\n",
      "2906/2906 [==============================] - 5s 2ms/step - loss: 0.3661 - accuracy: 0.8805 - val_loss: 0.3618 - val_accuracy: 0.8826\n",
      "Epoch 30/50\n",
      "2906/2906 [==============================] - 4s 2ms/step - loss: 0.3660 - accuracy: 0.8806 - val_loss: 0.3620 - val_accuracy: 0.8826\n",
      "Epoch 31/50\n",
      "2906/2906 [==============================] - 4s 1ms/step - loss: 0.3661 - accuracy: 0.8806 - val_loss: 0.3622 - val_accuracy: 0.8826\n",
      "Epoch 32/50\n",
      "2906/2906 [==============================] - 4s 1ms/step - loss: 0.3660 - accuracy: 0.8805 - val_loss: 0.3619 - val_accuracy: 0.8826\n",
      "Epoch 33/50\n",
      "2906/2906 [==============================] - 5s 2ms/step - loss: 0.3660 - accuracy: 0.8806 - val_loss: 0.3619 - val_accuracy: 0.8826\n",
      "Epoch 34/50\n",
      "2906/2906 [==============================] - 4s 1ms/step - loss: 0.3660 - accuracy: 0.8806 - val_loss: 0.3620 - val_accuracy: 0.8826\n",
      "Epoch 35/50\n",
      "2906/2906 [==============================] - 5s 2ms/step - loss: 0.3661 - accuracy: 0.8806 - val_loss: 0.3619 - val_accuracy: 0.8826\n",
      "Epoch 36/50\n",
      "2906/2906 [==============================] - 4s 2ms/step - loss: 0.3660 - accuracy: 0.8806 - val_loss: 0.3618 - val_accuracy: 0.8826\n",
      "Epoch 37/50\n",
      "2906/2906 [==============================] - 4s 1ms/step - loss: 0.3660 - accuracy: 0.8806 - val_loss: 0.3625 - val_accuracy: 0.8826\n",
      "Epoch 38/50\n",
      "2906/2906 [==============================] - 4s 2ms/step - loss: 0.3660 - accuracy: 0.8805 - val_loss: 0.3623 - val_accuracy: 0.8826\n",
      "Epoch 39/50\n",
      "2906/2906 [==============================] - 5s 2ms/step - loss: 0.3660 - accuracy: 0.8806 - val_loss: 0.3620 - val_accuracy: 0.8826\n",
      "Epoch 40/50\n",
      "2906/2906 [==============================] - 4s 2ms/step - loss: 0.3660 - accuracy: 0.8805 - val_loss: 0.3619 - val_accuracy: 0.8826\n",
      "Epoch 41/50\n",
      "2906/2906 [==============================] - 5s 2ms/step - loss: 0.3660 - accuracy: 0.8806 - val_loss: 0.3621 - val_accuracy: 0.8826\n",
      "Epoch 42/50\n",
      "2906/2906 [==============================] - 5s 2ms/step - loss: 0.3659 - accuracy: 0.8805 - val_loss: 0.3620 - val_accuracy: 0.8826\n",
      "Epoch 43/50\n",
      "2906/2906 [==============================] - 5s 2ms/step - loss: 0.3660 - accuracy: 0.8806 - val_loss: 0.3621 - val_accuracy: 0.8826\n",
      "Epoch 44/50\n",
      "2906/2906 [==============================] - 4s 1ms/step - loss: 0.3659 - accuracy: 0.8805 - val_loss: 0.3618 - val_accuracy: 0.8826\n",
      "Epoch 45/50\n",
      "2906/2906 [==============================] - 4s 2ms/step - loss: 0.3659 - accuracy: 0.8806 - val_loss: 0.3621 - val_accuracy: 0.8826\n",
      "Epoch 46/50\n",
      "2906/2906 [==============================] - 4s 2ms/step - loss: 0.3659 - accuracy: 0.8806 - val_loss: 0.3623 - val_accuracy: 0.8826\n",
      "Epoch 47/50\n",
      "2906/2906 [==============================] - 4s 2ms/step - loss: 0.3660 - accuracy: 0.8806 - val_loss: 0.3622 - val_accuracy: 0.8826\n",
      "Epoch 48/50\n",
      "2906/2906 [==============================] - 4s 1ms/step - loss: 0.3659 - accuracy: 0.8806 - val_loss: 0.3619 - val_accuracy: 0.8826\n",
      "Epoch 49/50\n",
      "2906/2906 [==============================] - 5s 2ms/step - loss: 0.3659 - accuracy: 0.8805 - val_loss: 0.3621 - val_accuracy: 0.8826\n",
      "Epoch 50/50\n",
      "2906/2906 [==============================] - 5s 2ms/step - loss: 0.3659 - accuracy: 0.8806 - val_loss: 0.3619 - val_accuracy: 0.8826\n",
      "909/909 [==============================] - 1s 1ms/step\n",
      "Classification Report:\n",
      "              precision    recall  f1-score   support\n",
      "\n",
      "           0       0.88      1.00      0.94     25600\n",
      "           1       0.00      0.00      0.00      3459\n",
      "\n",
      "    accuracy                           0.88     29059\n",
      "   macro avg       0.44      0.50      0.47     29059\n",
      "weighted avg       0.78      0.88      0.83     29059\n",
      "\n",
      "Confusion Matrix:\n",
      "[[25593     7]\n",
      " [ 3459     0]]\n",
      "ROC-AUC: 0.5032\n"
     ]
    },
    {
     "data": {
      "image/png": "[encoded data removed]",
      "text/plain": [
       "<Figure size 640x480 with 1 Axes>"
      ]
     },
     "metadata": {},
     "output_type": "display_data"
    },
    {
     "data": {
      "image/png": "[encoded data removed]",
      "text/plain": [
       "<Figure size 640x480 with 1 Axes>"
      ]
     },
     "metadata": {},
     "output_type": "display_data"
    }
   ],
   "source": [
    "# Define the ANN model\n",
    "model = keras.Sequential([\n",
    "    layers.Dense(64, activation='relu', input_shape=(X_train_scaled.shape[1],)),  # Input layer\n",
    "    layers.Dense(32, activation='relu'),  # Hidden layer\n",
    "    layers.Dense(1, activation='sigmoid')  # Output layer for binary classification\n",
    "])\n",
    "\n",
    "model.compile(optimizer='adam', loss='binary_crossentropy', metrics=['accuracy'])\n",
    "\n",
    "# Train the model\n",
    "history = model.fit(X_train, y_train, epochs=50, batch_size=32, validation_split=0.2)\n",
    "\n",
    "# Make predictions\n",
    "y_pred_proba = model.predict(X_test_scaled).flatten()  # Get probabilities\n",
    "y_pred = (y_pred_proba > 0.5).astype(int)  # Convert probabilities to binary predictions\n",
    "\n",
    "# Calculate metrics\n",
    "print(\"Classification Report:\")\n",
    "print(classification_report(y_test, y_pred))\n",
    "\n",
    "print(\"Confusion Matrix:\")\n",
    "print(confusion_matrix(y_test, y_pred))\n",
    "\n",
    "roc_auc = roc_auc_score(y_test, y_pred_proba)\n",
    "print(f\"ROC-AUC: {roc_auc:.4f}\")\n",
    "\n",
    "# Plot training & validation accuracy values\n",
    "plt.plot(history.history['accuracy'], label='Train Accuracy')\n",
    "plt.plot(history.history['val_accuracy'], label='Validation Accuracy')\n",
    "plt.title('Model Accuracy')\n",
    "plt.ylabel('Accuracy')\n",
    "plt.xlabel('Epoch')\n",
    "plt.legend()\n",
    "plt.show()\n",
    "\n",
    "# Plot training & validation loss values\n",
    "plt.plot(history.history['loss'], label='Train Loss')\n",
    "plt.plot(history.history['val_loss'], label='Validation Loss')\n",
    "plt.title('Model Loss')\n",
    "plt.ylabel('Loss')\n",
    "plt.xlabel('Epoch')\n",
    "plt.legend()\n",
    "plt.show()"
   ]
  },
  {
   "cell_type": "code",
   "execution_count": 62,
   "metadata": {},
   "outputs": [
    {
     "data": {
      "text/html": [
       "<div>\n",
       "<style scoped>\n",
       "    .dataframe tbody tr th:only-of-type {\n",
       "        vertical-align: middle;\n",
       "    }\n",
       "\n",
       "    .dataframe tbody tr th {\n",
       "        vertical-align: top;\n",
       "    }\n",
       "\n",
       "    .dataframe thead th {\n",
       "        text-align: right;\n",
       "    }\n",
       "</style>\n",
       "<table border=\"1\" class=\"dataframe\">\n",
       "  <thead>\n",
       "    <tr style=\"text-align: right;\">\n",
       "      <th></th>\n",
       "      <th>group_treatment</th>\n",
       "      <th>landing_page_old_page</th>\n",
       "      <th>country_UK</th>\n",
       "      <th>country_US</th>\n",
       "    </tr>\n",
       "  </thead>\n",
       "  <tbody>\n",
       "    <tr>\n",
       "      <th>0</th>\n",
       "      <td>0</td>\n",
       "      <td>1</td>\n",
       "      <td>0</td>\n",
       "      <td>1</td>\n",
       "    </tr>\n",
       "    <tr>\n",
       "      <th>1</th>\n",
       "      <td>1</td>\n",
       "      <td>0</td>\n",
       "      <td>0</td>\n",
       "      <td>1</td>\n",
       "    </tr>\n",
       "    <tr>\n",
       "      <th>2</th>\n",
       "      <td>1</td>\n",
       "      <td>0</td>\n",
       "      <td>1</td>\n",
       "      <td>0</td>\n",
       "    </tr>\n",
       "    <tr>\n",
       "      <th>3</th>\n",
       "      <td>1</td>\n",
       "      <td>0</td>\n",
       "      <td>1</td>\n",
       "      <td>0</td>\n",
       "    </tr>\n",
       "    <tr>\n",
       "      <th>4</th>\n",
       "      <td>1</td>\n",
       "      <td>0</td>\n",
       "      <td>0</td>\n",
       "      <td>1</td>\n",
       "    </tr>\n",
       "  </tbody>\n",
       "</table>\n",
       "</div>"
      ],
      "text/plain": [
       "   group_treatment  landing_page_old_page  country_UK  country_US\n",
       "0                0                      1           0           1\n",
       "1                1                      0           0           1\n",
       "2                1                      0           1           0\n",
       "3                1                      0           1           0\n",
       "4                1                      0           0           1"
      ]
     },
     "execution_count": 62,
     "metadata": {},
     "output_type": "execute_result"
    }
   ],
   "source": [
    "X_train_new.head()"
   ]
  }
 ],
 "metadata": {
  "kernelspec": {
   "display_name": "Python 3",
   "language": "python",
   "name": "python3"
  },
  "language_info": {
   "codemirror_mode": {
    "name": "ipython",
    "version": 3
   },
   "file_extension": ".py",
   "mimetype": "text/x-python",
   "name": "python",
   "nbconvert_exporter": "python",
   "pygments_lexer": "ipython3",
   "version": "3.8.19"
  }
 },
 "nbformat": 4,
 "nbformat_minor": 2
}
