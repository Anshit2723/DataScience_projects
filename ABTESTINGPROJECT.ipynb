{
 "cells": [
  {
   "cell_type": "code",
   "execution_count": 24,
   "metadata": {},
   "outputs": [
    {
     "name": "stdout",
     "output_type": "stream",
     "text": [
      "Requirement already satisfied: statsmodels in c:\\users\\chatu\\projects\\mlprojects\\venv\\lib\\site-packages (0.14.1)\n",
      "Requirement already satisfied: numpy<2,>=1.18 in c:\\users\\chatu\\projects\\mlprojects\\venv\\lib\\site-packages (from statsmodels) (1.24.3)\n",
      "Requirement already satisfied: scipy!=1.9.2,>=1.4 in c:\\users\\chatu\\projects\\mlprojects\\venv\\lib\\site-packages (from statsmodels) (1.10.1)\n",
      "Requirement already satisfied: pandas!=2.1.0,>=1.0 in c:\\users\\chatu\\projects\\mlprojects\\venv\\lib\\site-packages (from statsmodels) (2.0.3)\n",
      "Requirement already satisfied: patsy>=0.5.4 in c:\\users\\chatu\\projects\\mlprojects\\venv\\lib\\site-packages (from statsmodels) (0.5.6)\n",
      "Requirement already satisfied: packaging>=21.3 in c:\\users\\chatu\\projects\\mlprojects\\venv\\lib\\site-packages (from statsmodels) (24.1)\n",
      "Requirement already satisfied: python-dateutil>=2.8.2 in c:\\users\\chatu\\projects\\mlprojects\\venv\\lib\\site-packages (from pandas!=2.1.0,>=1.0->statsmodels) (2.9.0)\n",
      "Requirement already satisfied: pytz>=2020.1 in c:\\users\\chatu\\projects\\mlprojects\\venv\\lib\\site-packages (from pandas!=2.1.0,>=1.0->statsmodels) (2024.1)\n",
      "Requirement already satisfied: tzdata>=2022.1 in c:\\users\\chatu\\projects\\mlprojects\\venv\\lib\\site-packages (from pandas!=2.1.0,>=1.0->statsmodels) (2024.1)\n",
      "Requirement already satisfied: six in c:\\users\\chatu\\projects\\mlprojects\\venv\\lib\\site-packages (from patsy>=0.5.4->statsmodels) (1.16.0)\n",
      "Note: you may need to restart the kernel to use updated packages.\n",
      "Requirement already satisfied: imbalanced-learn in c:\\users\\chatu\\projects\\mlprojects\\venv\\lib\\site-packages (0.12.3)\n",
      "Requirement already satisfied: numpy>=1.17.3 in c:\\users\\chatu\\projects\\mlprojects\\venv\\lib\\site-packages (from imbalanced-learn) (1.24.3)\n",
      "Requirement already satisfied: scipy>=1.5.0 in c:\\users\\chatu\\projects\\mlprojects\\venv\\lib\\site-packages (from imbalanced-learn) (1.10.1)\n",
      "Requirement already satisfied: scikit-learn>=1.0.2 in c:\\users\\chatu\\projects\\mlprojects\\venv\\lib\\site-packages (from imbalanced-learn) (1.3.2)\n",
      "Requirement already satisfied: joblib>=1.1.1 in c:\\users\\chatu\\projects\\mlprojects\\venv\\lib\\site-packages (from imbalanced-learn) (1.4.2)\n",
      "Requirement already satisfied: threadpoolctl>=2.0.0 in c:\\users\\chatu\\projects\\mlprojects\\venv\\lib\\site-packages (from imbalanced-learn) (3.5.0)\n",
      "Note: you may need to restart the kernel to use updated packages.\n"
     ]
    }
   ],
   "source": [
    "%pip install statsmodels\n",
    "%pip install imbalanced-learn\n",
    "\n",
    "import numpy as np\n"
   ]
  },
  {
   "cell_type": "code",
   "execution_count": 25,
   "metadata": {},
   "outputs": [],
   "source": [
    "import pandas as pd \n",
    "\n",
    "\n",
    "df1=pd.read_csv(\"ab_data.csv\")\n",
    "df2=pd.read_csv(\"countries.csv\")"
   ]
  },
  {
   "cell_type": "code",
   "execution_count": 26,
   "metadata": {},
   "outputs": [
    {
     "data": {
      "text/html": [
       "<div>\n",
       "<style scoped>\n",
       "    .dataframe tbody tr th:only-of-type {\n",
       "        vertical-align: middle;\n",
       "    }\n",
       "\n",
       "    .dataframe tbody tr th {\n",
       "        vertical-align: top;\n",
       "    }\n",
       "\n",
       "    .dataframe thead th {\n",
       "        text-align: right;\n",
       "    }\n",
       "</style>\n",
       "<table border=\"1\" class=\"dataframe\">\n",
       "  <thead>\n",
       "    <tr style=\"text-align: right;\">\n",
       "      <th></th>\n",
       "      <th>user_id</th>\n",
       "      <th>timestamp</th>\n",
       "      <th>group</th>\n",
       "      <th>landing_page</th>\n",
       "      <th>converted</th>\n",
       "    </tr>\n",
       "  </thead>\n",
       "  <tbody>\n",
       "    <tr>\n",
       "      <th>0</th>\n",
       "      <td>851104</td>\n",
       "      <td>11:48.6</td>\n",
       "      <td>control</td>\n",
       "      <td>old_page</td>\n",
       "      <td>0</td>\n",
       "    </tr>\n",
       "    <tr>\n",
       "      <th>1</th>\n",
       "      <td>804228</td>\n",
       "      <td>01:45.2</td>\n",
       "      <td>control</td>\n",
       "      <td>old_page</td>\n",
       "      <td>0</td>\n",
       "    </tr>\n",
       "    <tr>\n",
       "      <th>2</th>\n",
       "      <td>661590</td>\n",
       "      <td>55:06.2</td>\n",
       "      <td>treatment</td>\n",
       "      <td>new_page</td>\n",
       "      <td>0</td>\n",
       "    </tr>\n",
       "    <tr>\n",
       "      <th>3</th>\n",
       "      <td>853541</td>\n",
       "      <td>28:03.1</td>\n",
       "      <td>treatment</td>\n",
       "      <td>new_page</td>\n",
       "      <td>0</td>\n",
       "    </tr>\n",
       "    <tr>\n",
       "      <th>4</th>\n",
       "      <td>864975</td>\n",
       "      <td>52:26.2</td>\n",
       "      <td>control</td>\n",
       "      <td>old_page</td>\n",
       "      <td>1</td>\n",
       "    </tr>\n",
       "  </tbody>\n",
       "</table>\n",
       "</div>"
      ],
      "text/plain": [
       "   user_id timestamp      group landing_page  converted\n",
       "0   851104   11:48.6    control     old_page          0\n",
       "1   804228   01:45.2    control     old_page          0\n",
       "2   661590   55:06.2  treatment     new_page          0\n",
       "3   853541   28:03.1  treatment     new_page          0\n",
       "4   864975   52:26.2    control     old_page          1"
      ]
     },
     "execution_count": 26,
     "metadata": {},
     "output_type": "execute_result"
    }
   ],
   "source": [
    "df1.head()"
   ]
  },
  {
   "cell_type": "code",
   "execution_count": 27,
   "metadata": {},
   "outputs": [
    {
     "data": {
      "text/html": [
       "<div>\n",
       "<style scoped>\n",
       "    .dataframe tbody tr th:only-of-type {\n",
       "        vertical-align: middle;\n",
       "    }\n",
       "\n",
       "    .dataframe tbody tr th {\n",
       "        vertical-align: top;\n",
       "    }\n",
       "\n",
       "    .dataframe thead th {\n",
       "        text-align: right;\n",
       "    }\n",
       "</style>\n",
       "<table border=\"1\" class=\"dataframe\">\n",
       "  <thead>\n",
       "    <tr style=\"text-align: right;\">\n",
       "      <th></th>\n",
       "      <th>user_id</th>\n",
       "      <th>country</th>\n",
       "    </tr>\n",
       "  </thead>\n",
       "  <tbody>\n",
       "    <tr>\n",
       "      <th>0</th>\n",
       "      <td>834778</td>\n",
       "      <td>UK</td>\n",
       "    </tr>\n",
       "    <tr>\n",
       "      <th>1</th>\n",
       "      <td>928468</td>\n",
       "      <td>US</td>\n",
       "    </tr>\n",
       "    <tr>\n",
       "      <th>2</th>\n",
       "      <td>822059</td>\n",
       "      <td>UK</td>\n",
       "    </tr>\n",
       "    <tr>\n",
       "      <th>3</th>\n",
       "      <td>711597</td>\n",
       "      <td>UK</td>\n",
       "    </tr>\n",
       "    <tr>\n",
       "      <th>4</th>\n",
       "      <td>710616</td>\n",
       "      <td>UK</td>\n",
       "    </tr>\n",
       "  </tbody>\n",
       "</table>\n",
       "</div>"
      ],
      "text/plain": [
       "   user_id country\n",
       "0   834778      UK\n",
       "1   928468      US\n",
       "2   822059      UK\n",
       "3   711597      UK\n",
       "4   710616      UK"
      ]
     },
     "execution_count": 27,
     "metadata": {},
     "output_type": "execute_result"
    }
   ],
   "source": [
    "df2.head()"
   ]
  },
  {
   "cell_type": "code",
   "execution_count": 28,
   "metadata": {},
   "outputs": [],
   "source": [
    "full_data=pd.merge(df1,df2,on='user_id',how='left')"
   ]
  },
  {
   "cell_type": "markdown",
   "metadata": {},
   "source": [
    "<h1>\"Data Overview\"</h1>"
   ]
  },
  {
   "cell_type": "code",
   "execution_count": 29,
   "metadata": {},
   "outputs": [
    {
     "data": {
      "text/html": [
       "<div>\n",
       "<style scoped>\n",
       "    .dataframe tbody tr th:only-of-type {\n",
       "        vertical-align: middle;\n",
       "    }\n",
       "\n",
       "    .dataframe tbody tr th {\n",
       "        vertical-align: top;\n",
       "    }\n",
       "\n",
       "    .dataframe thead th {\n",
       "        text-align: right;\n",
       "    }\n",
       "</style>\n",
       "<table border=\"1\" class=\"dataframe\">\n",
       "  <thead>\n",
       "    <tr style=\"text-align: right;\">\n",
       "      <th></th>\n",
       "      <th>user_id</th>\n",
       "      <th>timestamp</th>\n",
       "      <th>group</th>\n",
       "      <th>landing_page</th>\n",
       "      <th>converted</th>\n",
       "      <th>country</th>\n",
       "    </tr>\n",
       "  </thead>\n",
       "  <tbody>\n",
       "    <tr>\n",
       "      <th>0</th>\n",
       "      <td>851104</td>\n",
       "      <td>11:48.6</td>\n",
       "      <td>control</td>\n",
       "      <td>old_page</td>\n",
       "      <td>0</td>\n",
       "      <td>US</td>\n",
       "    </tr>\n",
       "    <tr>\n",
       "      <th>1</th>\n",
       "      <td>804228</td>\n",
       "      <td>01:45.2</td>\n",
       "      <td>control</td>\n",
       "      <td>old_page</td>\n",
       "      <td>0</td>\n",
       "      <td>US</td>\n",
       "    </tr>\n",
       "    <tr>\n",
       "      <th>2</th>\n",
       "      <td>661590</td>\n",
       "      <td>55:06.2</td>\n",
       "      <td>treatment</td>\n",
       "      <td>new_page</td>\n",
       "      <td>0</td>\n",
       "      <td>US</td>\n",
       "    </tr>\n",
       "    <tr>\n",
       "      <th>3</th>\n",
       "      <td>853541</td>\n",
       "      <td>28:03.1</td>\n",
       "      <td>treatment</td>\n",
       "      <td>new_page</td>\n",
       "      <td>0</td>\n",
       "      <td>US</td>\n",
       "    </tr>\n",
       "    <tr>\n",
       "      <th>4</th>\n",
       "      <td>864975</td>\n",
       "      <td>52:26.2</td>\n",
       "      <td>control</td>\n",
       "      <td>old_page</td>\n",
       "      <td>1</td>\n",
       "      <td>US</td>\n",
       "    </tr>\n",
       "  </tbody>\n",
       "</table>\n",
       "</div>"
      ],
      "text/plain": [
       "   user_id timestamp      group landing_page  converted country\n",
       "0   851104   11:48.6    control     old_page          0      US\n",
       "1   804228   01:45.2    control     old_page          0      US\n",
       "2   661590   55:06.2  treatment     new_page          0      US\n",
       "3   853541   28:03.1  treatment     new_page          0      US\n",
       "4   864975   52:26.2    control     old_page          1      US"
      ]
     },
     "execution_count": 29,
     "metadata": {},
     "output_type": "execute_result"
    }
   ],
   "source": [
    "full_data.head()"
   ]
  },
  {
   "cell_type": "code",
   "execution_count": 30,
   "metadata": {},
   "outputs": [
    {
     "data": {
      "text/html": [
       "<div>\n",
       "<style scoped>\n",
       "    .dataframe tbody tr th:only-of-type {\n",
       "        vertical-align: middle;\n",
       "    }\n",
       "\n",
       "    .dataframe tbody tr th {\n",
       "        vertical-align: top;\n",
       "    }\n",
       "\n",
       "    .dataframe thead th {\n",
       "        text-align: right;\n",
       "    }\n",
       "</style>\n",
       "<table border=\"1\" class=\"dataframe\">\n",
       "  <thead>\n",
       "    <tr style=\"text-align: right;\">\n",
       "      <th></th>\n",
       "      <th>user_id</th>\n",
       "      <th>converted</th>\n",
       "    </tr>\n",
       "  </thead>\n",
       "  <tbody>\n",
       "    <tr>\n",
       "      <th>count</th>\n",
       "      <td>294482.000000</td>\n",
       "      <td>294482.000000</td>\n",
       "    </tr>\n",
       "    <tr>\n",
       "      <th>mean</th>\n",
       "      <td>787973.348225</td>\n",
       "      <td>0.119658</td>\n",
       "    </tr>\n",
       "    <tr>\n",
       "      <th>std</th>\n",
       "      <td>91210.636700</td>\n",
       "      <td>0.324561</td>\n",
       "    </tr>\n",
       "    <tr>\n",
       "      <th>min</th>\n",
       "      <td>630000.000000</td>\n",
       "      <td>0.000000</td>\n",
       "    </tr>\n",
       "    <tr>\n",
       "      <th>25%</th>\n",
       "      <td>709032.250000</td>\n",
       "      <td>0.000000</td>\n",
       "    </tr>\n",
       "    <tr>\n",
       "      <th>50%</th>\n",
       "      <td>787931.500000</td>\n",
       "      <td>0.000000</td>\n",
       "    </tr>\n",
       "    <tr>\n",
       "      <th>75%</th>\n",
       "      <td>866910.750000</td>\n",
       "      <td>0.000000</td>\n",
       "    </tr>\n",
       "    <tr>\n",
       "      <th>max</th>\n",
       "      <td>945999.000000</td>\n",
       "      <td>1.000000</td>\n",
       "    </tr>\n",
       "  </tbody>\n",
       "</table>\n",
       "</div>"
      ],
      "text/plain": [
       "             user_id      converted\n",
       "count  294482.000000  294482.000000\n",
       "mean   787973.348225       0.119658\n",
       "std     91210.636700       0.324561\n",
       "min    630000.000000       0.000000\n",
       "25%    709032.250000       0.000000\n",
       "50%    787931.500000       0.000000\n",
       "75%    866910.750000       0.000000\n",
       "max    945999.000000       1.000000"
      ]
     },
     "execution_count": 30,
     "metadata": {},
     "output_type": "execute_result"
    }
   ],
   "source": [
    "full_data.describe()"
   ]
  },
  {
   "cell_type": "code",
   "execution_count": 31,
   "metadata": {},
   "outputs": [
    {
     "name": "stdout",
     "output_type": "stream",
     "text": [
      "<class 'pandas.core.frame.DataFrame'>\n",
      "RangeIndex: 294482 entries, 0 to 294481\n",
      "Data columns (total 6 columns):\n",
      " #   Column        Non-Null Count   Dtype \n",
      "---  ------        --------------   ----- \n",
      " 0   user_id       294482 non-null  int64 \n",
      " 1   timestamp     294482 non-null  object\n",
      " 2   group         294482 non-null  object\n",
      " 3   landing_page  294482 non-null  object\n",
      " 4   converted     294482 non-null  int64 \n",
      " 5   country       294482 non-null  object\n",
      "dtypes: int64(2), object(4)\n",
      "memory usage: 13.5+ MB\n"
     ]
    }
   ],
   "source": [
    "full_data.info()"
   ]
  },
  {
   "cell_type": "markdown",
   "metadata": {},
   "source": [
    "<h1>\"Exploratory Data Analysis (EDA)\"</h1>"
   ]
  },
  {
   "cell_type": "code",
   "execution_count": 32,
   "metadata": {},
   "outputs": [
    {
     "data": {
      "text/plain": [
       "user_id         0\n",
       "timestamp       0\n",
       "group           0\n",
       "landing_page    0\n",
       "converted       0\n",
       "country         0\n",
       "dtype: int64"
      ]
     },
     "execution_count": 32,
     "metadata": {},
     "output_type": "execute_result"
    }
   ],
   "source": [
    "full_data.isnull().sum()\n"
   ]
  },
  {
   "cell_type": "code",
   "execution_count": 33,
   "metadata": {},
   "outputs": [
    {
     "name": "stdout",
     "output_type": "stream",
     "text": [
      "3897\n"
     ]
    }
   ],
   "source": [
    "duplicates=full_data['user_id'].duplicated().sum()\n",
    "print(duplicates)\n"
   ]
  },
  {
   "cell_type": "code",
   "execution_count": 34,
   "metadata": {},
   "outputs": [],
   "source": [
    "# Keeping the first instance of each user_id\n",
    "full_data_cleaned = full_data.drop_duplicates(subset='user_id', keep='first')\n"
   ]
  },
  {
   "cell_type": "code",
   "execution_count": 35,
   "metadata": {},
   "outputs": [],
   "source": [
    "#calculating conversion rates for control and treatment groups\n",
    "conversion_rates=full_data_cleaned.groupby('group')['converted'].mean()*100 #converting to percentage"
   ]
  },
  {
   "cell_type": "code",
   "execution_count": 36,
   "metadata": {},
   "outputs": [
    {
     "name": "stdout",
     "output_type": "stream",
     "text": [
      "group\n",
      "control      12.029718\n",
      "treatment    11.884172\n",
      "Name: converted, dtype: float64\n"
     ]
    }
   ],
   "source": [
    "print(conversion_rates)"
   ]
  },
  {
   "cell_type": "code",
   "execution_count": 37,
   "metadata": {},
   "outputs": [],
   "source": [
    "import matplotlib.pyplot as plt\n",
    "import seaborn as sns"
   ]
  },
  {
   "cell_type": "code",
   "execution_count": 38,
   "metadata": {},
   "outputs": [
    {
     "name": "stderr",
     "output_type": "stream",
     "text": [
      "C:\\Users\\chatu\\AppData\\Local\\Temp\\ipykernel_3200\\481359630.py:2: FutureWarning: \n",
      "\n",
      "Passing `palette` without assigning `hue` is deprecated and will be removed in v0.14.0. Assign the `x` variable to `hue` and set `legend=False` for the same effect.\n",
      "\n",
      "  sns.barplot(x=conversion_rates.index,y=conversion_rates.values,palette='pastel')\n",
      "No artists with labels found to put in legend.  Note that artists whose label start with an underscore are ignored when legend() is called with no argument.\n"
     ]
    },
    {
     "data": {
      "image/png": "[encoded data removed]",
      "text/plain": [
       "<Figure size 1000x600 with 1 Axes>"
      ]
     },
     "metadata": {},
     "output_type": "display_data"
    }
   ],
   "source": [
    "plt.figure(figsize=(10,6))\n",
    "sns.barplot(x=conversion_rates.index,y=conversion_rates.values,palette='pastel')\n",
    "plt.title(\"Conversion rates by Group\")\n",
    "plt.legend()\n",
    "plt.xlabel('group')\n",
    "plt.ylabel('conversion_rate')\n",
    "plt.ylim(0,20)\n",
    "plt.show()"
   ]
  },
  {
   "cell_type": "code",
   "execution_count": 39,
   "metadata": {},
   "outputs": [
    {
     "name": "stdout",
     "output_type": "stream",
     "text": [
      "Conversion Rates by Country:\n",
      "country\n",
      "CA    11.573212\n",
      "UK    12.052549\n",
      "US    11.950201\n",
      "Name: converted, dtype: float64\n"
     ]
    },
    {
     "name": "stderr",
     "output_type": "stream",
     "text": [
      "C:\\Users\\chatu\\AppData\\Local\\Temp\\ipykernel_3200\\837184215.py:7: FutureWarning: \n",
      "\n",
      "Passing `palette` without assigning `hue` is deprecated and will be removed in v0.14.0. Assign the `x` variable to `hue` and set `legend=False` for the same effect.\n",
      "\n",
      "  sns.barplot(x=conversion_by_country.index, y=conversion_by_country.values, palette='viridis')\n"
     ]
    },
    {
     "data": {
      "image/png": "[encoded data removed]",
      "text/plain": [
       "<Figure size 1200x600 with 1 Axes>"
      ]
     },
     "metadata": {},
     "output_type": "display_data"
    }
   ],
   "source": [
    "# Calculating conversion rates by country\n",
    "conversion_by_country = full_data_cleaned.groupby('country')['converted'].mean() * 100\n",
    "print(f\"Conversion Rates by Country:\\n{conversion_by_country}\")\n",
    "\n",
    "# Visualizing conversion rates by country\n",
    "plt.figure(figsize=(12, 6))\n",
    "sns.barplot(x=conversion_by_country.index, y=conversion_by_country.values, palette='viridis')\n",
    "plt.title('Conversion Rates by Country')\n",
    "plt.xlabel('Country')\n",
    "plt.ylabel('Conversion Rate (%)')\n",
    "plt.ylim(0, 20)\n",
    "plt.show()\n"
   ]
  },
  {
   "cell_type": "code",
   "execution_count": 40,
   "metadata": {},
   "outputs": [
    {
     "name": "stdout",
     "output_type": "stream",
     "text": [
      "Total Users: 290585\n",
      "Total Conversions: 34745\n",
      "Overall Conversion Rate: 11.96%\n"
     ]
    }
   ],
   "source": [
    "# Counting total conversions and non-conversions\n",
    "total_conversions = full_data_cleaned['converted'].sum()\n",
    "total_users = full_data_cleaned['user_id'].nunique()  # Unique users\n",
    "conversion_rate = total_conversions / total_users * 100\n",
    "\n",
    "print(f\"Total Users: {total_users}\")\n",
    "print(f\"Total Conversions: {total_conversions}\")\n",
    "print(f\"Overall Conversion Rate: {conversion_rate:.2f}%\")\n"
   ]
  },
  {
   "cell_type": "code",
   "execution_count": null,
   "metadata": {},
   "outputs": [],
   "source": []
  },
  {
   "cell_type": "markdown",
   "metadata": {},
   "source": [
    "<h1><span style=\"background-color:yellow\">\n",
    "<span style=\"color:black\">Hypothesis Testing (A/B Testing)</span></h1>\n",
    "\n",
    "The primary goal of this project is to determine whether the new page (treatment) performs better than the old page (control) in terms of conversions. We will run a hypothesis test to determine if the observed differences in conversion rates between the two groups are statistically significant.\n",
    "\n",
    "Step 1: Define Hypotheses\n",
    "For an A/B test, we typically define the following hypotheses:\n",
    "\n",
    "Null Hypothesis (H₀): There is no difference in conversion rates between the control (old page) and treatment (new page) groups.\n",
    "Alternative Hypothesis (H₁): There is a difference in conversion rates between the control and treatment groups.\n",
    "Mathematically:\n",
    "H₀: \n",
    "𝑝 old = 𝑝 new\n",
    "H₁: \n",
    "𝑝 old ≠𝑝 new\n",
    "</span>"
   ]
  },
  {
   "cell_type": "code",
   "execution_count": 41,
   "metadata": {},
   "outputs": [
    {
     "name": "stdout",
     "output_type": "stream",
     "text": [
      "Z-statistic: 1.2090677477177405\n",
      "P-value: 0.22663681880712272\n"
     ]
    }
   ],
   "source": [
    "import statsmodels.api as sm\n",
    "\n",
    "# Number of conversions and total users for each group\n",
    "control_converted = full_data_cleaned[full_data_cleaned['group'] == 'control']['converted'].sum()\n",
    "treatment_converted = full_data_cleaned[full_data_cleaned['group'] == 'treatment']['converted'].sum()\n",
    "\n",
    "control_total = full_data_cleaned[full_data_cleaned['group'] == 'control'].shape[0]\n",
    "treatment_total = full_data_cleaned[full_data_cleaned['group'] == 'treatment'].shape[0]\n",
    "\n",
    "# Conversion rates for each group\n",
    "control_rate = control_converted / control_total\n",
    "treatment_rate = treatment_converted / treatment_total\n",
    "\n",
    "# Performing the Z-test for proportions\n",
    "count = np.array([control_converted, treatment_converted])  # Number of conversions in each group\n",
    "nobs = np.array([control_total, treatment_total])  # Number of users in each group\n",
    "\n",
    "z_stat, p_value = sm.stats.proportions_ztest(count, nobs)\n",
    "print(f\"Z-statistic: {z_stat}\")\n",
    "print(f\"P-value: {p_value}\")\n"
   ]
  },
  {
   "cell_type": "code",
   "execution_count": 42,
   "metadata": {},
   "outputs": [
    {
     "data": {
      "text/plain": [
       "(17274, 17471)"
      ]
     },
     "execution_count": 42,
     "metadata": {},
     "output_type": "execute_result"
    }
   ],
   "source": [
    "treatment_converted,control_converted"
   ]
  },
  {
   "cell_type": "markdown",
   "metadata": {},
   "source": [
    "<span style=\"color= : black\">Interpret the Results\n",
    "Z-statistic: This tells us how many standard deviations the difference in conversion rates is away from the null hypothesis. A larger Z-statistic indicates stronger evidence against the null hypothesis.\n",
    "\n",
    "P-value: The p-value tells us the probability of observing a result as extreme as (or more extreme than) the one we got, assuming the null hypothesis is true.\n",
    "\n",
    "If p-value < 0.05 (assuming a 5% significance level), we reject the null hypothesis and conclude that there is a statistically significant difference between the control and treatment groups.\n",
    "If p-value > 0.05, we fail to reject the null hypothesis and conclude that the difference is not statistically significant.</span>"
   ]
  },
  {
   "cell_type": "markdown",
   "metadata": {},
   "source": [
    "<span style=\"color:black\">P-value = 0.227, which is much larger than the typical threshold of 0.05 (or 5% significance level).\n",
    "Since the p-value is greater than 0.05, we fail to reject the null hypothesis.\n",
    "\n",
    "<span style=\"background-color: yellow\">Conclusion\n",
    "Fail to reject the null hypothesis: The data does not provide sufficient evidence to conclude that the new page has a significantly different conversion rate compared to the old page.\n",
    "Business Implication: Based on the current data, the company should not implement the new page yet because the difference in conversion rates between the old and new pages is not statistically significant.</span>\n",
    "\n",
    "\n",
    "\n",
    "</span>"
   ]
  },
  {
   "cell_type": "markdown",
   "metadata": {},
   "source": [
    "<set style=\"color:black\"></style>"
   ]
  },
  {
   "cell_type": "markdown",
   "metadata": {},
   "source": [
    "<set style=\"color:darkblack\">\n",
    "Effect Size Calculation:</style>\n",
    "<set style=\"color:black\">The effect size tells you the magnitude of the difference between the two groups, which helps in understanding the practical significance even if the result isn't statistically significant.\n",
    "\n",
    "\n",
    "\n",
    "(Coehen's h)h=2×(arcsin(sqrt(p1))−arcsin(sqrt( p2)))\n",
    "</style>"
   ]
  },
  {
   "cell_type": "code",
   "execution_count": 43,
   "metadata": {},
   "outputs": [
    {
     "name": "stdout",
     "output_type": "stream",
     "text": [
      "Effect Size (Cohen's h): -0.0044858574019009945\n"
     ]
    }
   ],
   "source": [
    "# Conversion rates for both groups\n",
    "p1 = treatment_rate  # Treatment group conversion rate\n",
    "p2 = control_rate    # Control group conversion rate\n",
    "\n",
    "# Calculate Cohen's h\n",
    "cohen_h = 2 * (np.arcsin(np.sqrt(p1)) - np.arcsin(np.sqrt(p2)))\n",
    "print(f\"Effect Size (Cohen's h): {cohen_h}\")\n"
   ]
  },
  {
   "cell_type": "code",
   "execution_count": 44,
   "metadata": {},
   "outputs": [
    {
     "data": {
      "text/plain": [
       "(0.11884171637324308, 0.12029717968491792)"
      ]
     },
     "execution_count": 44,
     "metadata": {},
     "output_type": "execute_result"
    }
   ],
   "source": [
    "treatment_rate,control_rate"
   ]
  },
  {
   "cell_type": "markdown",
   "metadata": {},
   "source": [
    "<set style=\"background-color:yellow\">Cohen's h = -0.0045 indicates that the difference in conversion rates between the control and treatment groups is negligibly small.\n",
    "The negative sign just means that the control group's conversion rate is slightly higher than the treatment group's, but the difference is so tiny that it's practically insignificant.</style>"
   ]
  },
  {
   "cell_type": "markdown",
   "metadata": {},
   "source": [
    "<H1>\"MACHINE LEARNING ANALSYIS\"</H1>"
   ]
  },
  {
   "cell_type": "code",
   "execution_count": 45,
   "metadata": {},
   "outputs": [
    {
     "name": "stdout",
     "output_type": "stream",
     "text": [
      "converted\n",
      "0    255840\n",
      "1     34745\n",
      "Name: count, dtype: int64\n"
     ]
    }
   ],
   "source": [
    "print(full_data_cleaned['converted'].value_counts())\n"
   ]
  },
  {
   "cell_type": "markdown",
   "metadata": {},
   "source": [
    "<h3>\"IMBALANCED DATA\"</h3>\n",
    "APPLYING SMOTE=SYNTHETIC MINORITY OVERSAMPLING TECHNIQUE"
   ]
  },
  {
   "cell_type": "code",
   "execution_count": 56,
   "metadata": {},
   "outputs": [
    {
     "name": "stderr",
     "output_type": "stream",
     "text": [
      "C:\\Users\\chatu\\AppData\\Local\\Temp\\ipykernel_3200\\1273051249.py:26: SettingWithCopyWarning: \n",
      "A value is trying to be set on a copy of a slice from a DataFrame.\n",
      "Try using .loc[row_indexer,col_indexer] = value instead\n",
      "\n",
      "See the caveats in the documentation: https://pandas.pydata.org/pandas-docs/stable/user_guide/indexing.html#returning-a-view-versus-a-copy\n",
      "  X['timestamp_seconds'] = X['timestamp'].apply(convert_to_seconds)\n"
     ]
    }
   ],
   "source": [
    "import pandas as pd\n",
    "from sklearn.model_selection import train_test_split\n",
    "from imblearn.over_sampling import SMOTE\n",
    "from sklearn.preprocessing import StandardScaler\n",
    "from sklearn.compose import ColumnTransformer\n",
    "from sklearn.preprocessing import OneHotEncoder\n",
    "from sklearn.pipeline import Pipeline\n",
    "\n",
    "# Sampling 25% of the full cleaned data\n",
    "full_data_sampled = full_data_cleaned.sample(frac=0.25, random_state=42)\n",
    "\n",
    "# Defining the target variable (y) and the features (X)\n",
    "X = full_data_sampled[['group', 'timestamp', 'landing_page', 'country']]\n",
    "y = full_data_sampled['converted']\n",
    "\n",
    "# Converting 'timestamp' into a new feature total seconds\n",
    "def convert_to_seconds(timestamp_str):\n",
    "    # Assuming the format is 'MM:SS.F' (minutes, seconds, fractional seconds)\n",
    "    parts = timestamp_str.split(':')\n",
    "    minutes = int(parts[0])\n",
    "    seconds = float(parts[1])\n",
    "    total_seconds = minutes * 60 + seconds\n",
    "    return total_seconds\n",
    "\n",
    "# Apply the function to the timestamp column\n",
    "X['timestamp_seconds'] = X['timestamp'].apply(convert_to_seconds)\n",
    "\n",
    "# dropping the original 'timestamp' column\n",
    "X = X.drop(columns=['timestamp'])\n",
    "\n",
    "# Split the data into training and testing sets (80% train, 20% test)\n",
    "X_train, X_test, y_train, y_test = train_test_split(X, y, test_size=0.2, random_state=42, stratify=y)\n",
    "\n",
    "# Column Transformer for One-Hot Encoding categorical features and scaling the numerical timestamp\n",
    "preprocessor = ColumnTransformer(\n",
    "    transformers=[\n",
    "        ('cat', OneHotEncoder(), ['group', 'landing_page', 'country']),\n",
    "        ('num', StandardScaler(), ['timestamp_seconds'])\n",
    "    ])\n",
    "\n",
    "# Preprocessing the data\n",
    "X_train_transformed = preprocessor.fit_transform(X_train)\n",
    "X_test_transformed = preprocessor.transform(X_test)\n"
   ]
  },
  {
   "cell_type": "code",
   "execution_count": 57,
   "metadata": {},
   "outputs": [],
   "source": [
    "# Handling imbalance using SMOTE (Synthetic Minority Over-sampling Technique)\n",
    "sm = SMOTE(random_state=42)\n",
    "X_train_resampled, y_train_resampled = sm.fit_resample(X_train_transformed, y_train)\n"
   ]
  },
  {
   "cell_type": "markdown",
   "metadata": {},
   "source": [
    "<h2>\"Model Training\"</h2>"
   ]
  },
  {
   "cell_type": "code",
   "execution_count": 59,
   "metadata": {},
   "outputs": [],
   "source": [
    "from sklearn.ensemble import RandomForestClassifier, GradientBoostingClassifier\n",
    "from sklearn.svm import SVC\n",
    "from sklearn.neighbors import KNeighborsClassifier\n",
    "from xgboost import XGBClassifier\n",
    "from sklearn.linear_model import LogisticRegression\n",
    "from sklearn.metrics import accuracy_score,precision_score, recall_score, f1_score, roc_auc_score, confusion_matrix, classification_report, roc_curve, auc\n",
    "from sklearn.model_selection import GridSearchCV,RandomizedSearchCV"
   ]
  },
  {
   "cell_type": "code",
   "execution_count": 54,
   "metadata": {},
   "outputs": [],
   "source": [
    "# models to evaluate\n",
    "models = {\n",
    "    'Logistic Regression': LogisticRegression(class_weight='balanced',max_iter=1000),\n",
    "    'Random Forest': RandomForestClassifier(class_weight='balanced',n_estimators=50, max_depth=10),\n",
    "    'Gradient Boosting': GradientBoostingClassifier(n_estimators=50, max_depth=3,learning_rate=0.1),\n",
    "    'K-Nearest Neighbors': KNeighborsClassifier(n_neighbors=5),\n",
    "    'XGBoost': XGBClassifier(use_label_encoder=False, eval_metric='logloss',n_estimators=50, max_depth=3),\n",
    "}\n"
   ]
  },
  {
   "cell_type": "code",
   "execution_count": 58,
   "metadata": {},
   "outputs": [
    {
     "data": {
      "text/plain": [
       "((14530, 8), (102276, 8), (102276,), (14530,))"
      ]
     },
     "execution_count": 58,
     "metadata": {},
     "output_type": "execute_result"
    }
   ],
   "source": [
    "X_test_transformed.shape,X_train_resampled.shape,y_train_resampled.shape,y_test.shape"
   ]
  },
  {
   "cell_type": "code",
   "execution_count": 61,
   "metadata": {},
   "outputs": [
    {
     "name": "stderr",
     "output_type": "stream",
     "text": [
      "c:\\Users\\chatu\\projects\\mlprojects\\venv\\lib\\site-packages\\sklearn\\model_selection\\_search.py:307: UserWarning: The total space of parameters 8 is smaller than n_iter=10. Running 8 iterations. For exhaustive searches, use GridSearchCV.\n",
      "  warnings.warn(\n"
     ]
    },
    {
     "name": "stdout",
     "output_type": "stream",
     "text": [
      "Best parameters for Logistic Regression: {'solver': 'lbfgs', 'C': 10}\n",
      "Best parameters for Random Forest: {'n_estimators': 50, 'min_samples_split': 10, 'max_depth': 15}\n",
      "Best parameters for Gradient Boosting: {'n_estimators': 200, 'max_depth': 5, 'learning_rate': 0.1}\n"
     ]
    },
    {
     "name": "stderr",
     "output_type": "stream",
     "text": [
      "c:\\Users\\chatu\\projects\\mlprojects\\venv\\lib\\site-packages\\sklearn\\model_selection\\_search.py:307: UserWarning: The total space of parameters 4 is smaller than n_iter=10. Running 4 iterations. For exhaustive searches, use GridSearchCV.\n",
      "  warnings.warn(\n"
     ]
    },
    {
     "name": "stdout",
     "output_type": "stream",
     "text": [
      "Best parameters for K-Nearest Neighbors: {'n_neighbors': 9}\n"
     ]
    },
    {
     "name": "stderr",
     "output_type": "stream",
     "text": [
      "c:\\Users\\chatu\\projects\\mlprojects\\venv\\lib\\site-packages\\xgboost\\core.py:158: UserWarning: [13:03:27] WARNING: C:\\buildkite-agent\\builds\\buildkite-windows-cpu-autoscaling-group-i-0015a694724fa8361-1\\xgboost\\xgboost-ci-windows\\src\\learner.cc:740: \n",
      "Parameters: { \"use_label_encoder\" } are not used.\n",
      "\n",
      "  warnings.warn(smsg, UserWarning)\n"
     ]
    },
    {
     "name": "stdout",
     "output_type": "stream",
     "text": [
      "Best parameters for XGBoost: {'subsample': 1.0, 'n_estimators': 200, 'max_depth': 7, 'learning_rate': 0.1}\n"
     ]
    },
    {
     "name": "stderr",
     "output_type": "stream",
     "text": [
      "c:\\Users\\chatu\\projects\\mlprojects\\venv\\lib\\site-packages\\xgboost\\core.py:158: UserWarning: [13:03:28] WARNING: C:\\buildkite-agent\\builds\\buildkite-windows-cpu-autoscaling-group-i-0015a694724fa8361-1\\xgboost\\xgboost-ci-windows\\src\\learner.cc:740: \n",
      "Parameters: { \"use_label_encoder\" } are not used.\n",
      "\n",
      "  warnings.warn(smsg, UserWarning)\n",
      "c:\\Users\\chatu\\projects\\mlprojects\\venv\\lib\\site-packages\\xgboost\\core.py:158: UserWarning: [13:03:28] WARNING: C:\\buildkite-agent\\builds\\buildkite-windows-cpu-autoscaling-group-i-0015a694724fa8361-1\\xgboost\\xgboost-ci-windows\\src\\learner.cc:740: \n",
      "Parameters: { \"use_label_encoder\" } are not used.\n",
      "\n",
      "  warnings.warn(smsg, UserWarning)\n"
     ]
    },
    {
     "name": "stdout",
     "output_type": "stream",
     "text": [
      "                                  Model  Accuracy  Precision    Recall  \\\n",
      "0   Logistic Regression (threshold=0.3)  0.504542   0.121775  0.503152   \n",
      "1   Logistic Regression (threshold=0.5)  0.504542   0.121775  0.503152   \n",
      "2   Logistic Regression (threshold=0.7)  0.504542   0.121775  0.503152   \n",
      "3         Random Forest (threshold=0.3)  0.603028   0.113545  0.338682   \n",
      "4         Random Forest (threshold=0.5)  0.609566   0.112929  0.328367   \n",
      "5         Random Forest (threshold=0.7)  0.610599   0.112036  0.323782   \n",
      "6     Gradient Boosting (threshold=0.3)  0.568685   0.118590  0.402865   \n",
      "7     Gradient Boosting (threshold=0.5)  0.568685   0.118590  0.402865   \n",
      "8     Gradient Boosting (threshold=0.7)  0.568685   0.118590  0.402865   \n",
      "9   K-Nearest Neighbors (threshold=0.3)  0.588713   0.119172  0.379370   \n",
      "10  K-Nearest Neighbors (threshold=0.5)  0.588713   0.119172  0.379370   \n",
      "11  K-Nearest Neighbors (threshold=0.7)  0.588713   0.119172  0.379370   \n",
      "12              XGBoost (threshold=0.3)  0.534756   0.120937  0.458453   \n",
      "13              XGBoost (threshold=0.5)  0.534756   0.120937  0.458453   \n",
      "14              XGBoost (threshold=0.7)  0.534756   0.120937  0.458453   \n",
      "\n",
      "    F1 Score   ROC-AUC  \n",
      "0   0.196092  0.505269  \n",
      "1   0.196092  0.505269  \n",
      "2   0.196092  0.505269  \n",
      "3   0.170072  0.488190  \n",
      "4   0.168060  0.489511  \n",
      "5   0.166470  0.490002  \n",
      "6   0.183240  0.495288  \n",
      "7   0.183240  0.495273  \n",
      "8   0.183240  0.495272  \n",
      "9   0.181370  0.497871  \n",
      "10  0.181370  0.497871  \n",
      "11  0.181370  0.497871  \n",
      "12  0.191388  0.501443  \n",
      "13  0.191388  0.501443  \n",
      "14  0.191388  0.501443  \n"
     ]
    },
    {
     "data": {
      "text/html": [
       "<style type=\"text/css\">\n",
       "#T_bebc8_row0_col1, #T_bebc8_row1_col1, #T_bebc8_row2_col1, #T_bebc8_row3_col5, #T_bebc8_row5_col2, #T_bebc8_row5_col3, #T_bebc8_row5_col4 {\n",
       "  background-color: #440154;\n",
       "  color: #f1f1f1;\n",
       "}\n",
       "#T_bebc8_row0_col2, #T_bebc8_row0_col3, #T_bebc8_row0_col4, #T_bebc8_row0_col5, #T_bebc8_row1_col2, #T_bebc8_row1_col3, #T_bebc8_row1_col4, #T_bebc8_row1_col5, #T_bebc8_row2_col2, #T_bebc8_row2_col3, #T_bebc8_row2_col4, #T_bebc8_row2_col5, #T_bebc8_row5_col1 {\n",
       "  background-color: #fde725;\n",
       "  color: #000000;\n",
       "}\n",
       "#T_bebc8_row3_col1 {\n",
       "  background-color: #d0e11c;\n",
       "  color: #000000;\n",
       "}\n",
       "#T_bebc8_row3_col2 {\n",
       "  background-color: #453581;\n",
       "  color: #f1f1f1;\n",
       "}\n",
       "#T_bebc8_row3_col3 {\n",
       "  background-color: #481f70;\n",
       "  color: #f1f1f1;\n",
       "}\n",
       "#T_bebc8_row3_col4 {\n",
       "  background-color: #472c7a;\n",
       "  color: #f1f1f1;\n",
       "}\n",
       "#T_bebc8_row4_col1 {\n",
       "  background-color: #f8e621;\n",
       "  color: #000000;\n",
       "}\n",
       "#T_bebc8_row4_col2 {\n",
       "  background-color: #482173;\n",
       "  color: #f1f1f1;\n",
       "}\n",
       "#T_bebc8_row4_col3 {\n",
       "  background-color: #460a5d;\n",
       "  color: #f1f1f1;\n",
       "}\n",
       "#T_bebc8_row4_col4 {\n",
       "  background-color: #481467;\n",
       "  color: #f1f1f1;\n",
       "}\n",
       "#T_bebc8_row4_col5 {\n",
       "  background-color: #481c6e;\n",
       "  color: #f1f1f1;\n",
       "}\n",
       "#T_bebc8_row5_col5 {\n",
       "  background-color: #482677;\n",
       "  color: #f1f1f1;\n",
       "}\n",
       "#T_bebc8_row6_col1, #T_bebc8_row7_col1, #T_bebc8_row8_col1 {\n",
       "  background-color: #23a983;\n",
       "  color: #f1f1f1;\n",
       "}\n",
       "#T_bebc8_row6_col2, #T_bebc8_row7_col2, #T_bebc8_row8_col2 {\n",
       "  background-color: #38b977;\n",
       "  color: #f1f1f1;\n",
       "}\n",
       "#T_bebc8_row6_col3, #T_bebc8_row7_col3, #T_bebc8_row8_col3 {\n",
       "  background-color: #26828e;\n",
       "  color: #f1f1f1;\n",
       "}\n",
       "#T_bebc8_row6_col4, #T_bebc8_row7_col4, #T_bebc8_row8_col4 {\n",
       "  background-color: #1fa088;\n",
       "  color: #f1f1f1;\n",
       "}\n",
       "#T_bebc8_row6_col5, #T_bebc8_row7_col5, #T_bebc8_row8_col5 {\n",
       "  background-color: #287c8e;\n",
       "  color: #f1f1f1;\n",
       "}\n",
       "#T_bebc8_row9_col1, #T_bebc8_row10_col1, #T_bebc8_row11_col1 {\n",
       "  background-color: #77d153;\n",
       "  color: #000000;\n",
       "}\n",
       "#T_bebc8_row9_col2, #T_bebc8_row10_col2, #T_bebc8_row11_col2 {\n",
       "  background-color: #54c568;\n",
       "  color: #000000;\n",
       "}\n",
       "#T_bebc8_row9_col3, #T_bebc8_row10_col3, #T_bebc8_row11_col3 {\n",
       "  background-color: #33628d;\n",
       "  color: #f1f1f1;\n",
       "}\n",
       "#T_bebc8_row9_col4, #T_bebc8_row10_col4, #T_bebc8_row11_col4 {\n",
       "  background-color: #21918c;\n",
       "  color: #f1f1f1;\n",
       "}\n",
       "#T_bebc8_row9_col5, #T_bebc8_row10_col5, #T_bebc8_row11_col5 {\n",
       "  background-color: #1fa188;\n",
       "  color: #f1f1f1;\n",
       "}\n",
       "#T_bebc8_row12_col1, #T_bebc8_row13_col1, #T_bebc8_row14_col1 {\n",
       "  background-color: #375b8d;\n",
       "  color: #f1f1f1;\n",
       "}\n",
       "#T_bebc8_row12_col2, #T_bebc8_row13_col2, #T_bebc8_row14_col2 {\n",
       "  background-color: #c5e021;\n",
       "  color: #000000;\n",
       "}\n",
       "#T_bebc8_row12_col3, #T_bebc8_row13_col3, #T_bebc8_row14_col3 {\n",
       "  background-color: #5ec962;\n",
       "  color: #000000;\n",
       "}\n",
       "#T_bebc8_row12_col4, #T_bebc8_row13_col4, #T_bebc8_row14_col4 {\n",
       "  background-color: #95d840;\n",
       "  color: #000000;\n",
       "}\n",
       "#T_bebc8_row12_col5, #T_bebc8_row13_col5, #T_bebc8_row14_col5 {\n",
       "  background-color: #6ccd5a;\n",
       "  color: #000000;\n",
       "}\n",
       "</style>\n",
       "<table id=\"T_bebc8\">\n",
       "  <thead>\n",
       "    <tr>\n",
       "      <th class=\"blank level0\" >&nbsp;</th>\n",
       "      <th id=\"T_bebc8_level0_col0\" class=\"col_heading level0 col0\" >Model</th>\n",
       "      <th id=\"T_bebc8_level0_col1\" class=\"col_heading level0 col1\" >Accuracy</th>\n",
       "      <th id=\"T_bebc8_level0_col2\" class=\"col_heading level0 col2\" >Precision</th>\n",
       "      <th id=\"T_bebc8_level0_col3\" class=\"col_heading level0 col3\" >Recall</th>\n",
       "      <th id=\"T_bebc8_level0_col4\" class=\"col_heading level0 col4\" >F1 Score</th>\n",
       "      <th id=\"T_bebc8_level0_col5\" class=\"col_heading level0 col5\" >ROC-AUC</th>\n",
       "    </tr>\n",
       "  </thead>\n",
       "  <tbody>\n",
       "    <tr>\n",
       "      <th id=\"T_bebc8_level0_row0\" class=\"row_heading level0 row0\" >0</th>\n",
       "      <td id=\"T_bebc8_row0_col0\" class=\"data row0 col0\" >Logistic Regression (threshold=0.3)</td>\n",
       "      <td id=\"T_bebc8_row0_col1\" class=\"data row0 col1\" >0.5045</td>\n",
       "      <td id=\"T_bebc8_row0_col2\" class=\"data row0 col2\" >0.1218</td>\n",
       "      <td id=\"T_bebc8_row0_col3\" class=\"data row0 col3\" >0.5032</td>\n",
       "      <td id=\"T_bebc8_row0_col4\" class=\"data row0 col4\" >0.1961</td>\n",
       "      <td id=\"T_bebc8_row0_col5\" class=\"data row0 col5\" >0.5053</td>\n",
       "    </tr>\n",
       "    <tr>\n",
       "      <th id=\"T_bebc8_level0_row1\" class=\"row_heading level0 row1\" >1</th>\n",
       "      <td id=\"T_bebc8_row1_col0\" class=\"data row1 col0\" >Logistic Regression (threshold=0.5)</td>\n",
       "      <td id=\"T_bebc8_row1_col1\" class=\"data row1 col1\" >0.5045</td>\n",
       "      <td id=\"T_bebc8_row1_col2\" class=\"data row1 col2\" >0.1218</td>\n",
       "      <td id=\"T_bebc8_row1_col3\" class=\"data row1 col3\" >0.5032</td>\n",
       "      <td id=\"T_bebc8_row1_col4\" class=\"data row1 col4\" >0.1961</td>\n",
       "      <td id=\"T_bebc8_row1_col5\" class=\"data row1 col5\" >0.5053</td>\n",
       "    </tr>\n",
       "    <tr>\n",
       "      <th id=\"T_bebc8_level0_row2\" class=\"row_heading level0 row2\" >2</th>\n",
       "      <td id=\"T_bebc8_row2_col0\" class=\"data row2 col0\" >Logistic Regression (threshold=0.7)</td>\n",
       "      <td id=\"T_bebc8_row2_col1\" class=\"data row2 col1\" >0.5045</td>\n",
       "      <td id=\"T_bebc8_row2_col2\" class=\"data row2 col2\" >0.1218</td>\n",
       "      <td id=\"T_bebc8_row2_col3\" class=\"data row2 col3\" >0.5032</td>\n",
       "      <td id=\"T_bebc8_row2_col4\" class=\"data row2 col4\" >0.1961</td>\n",
       "      <td id=\"T_bebc8_row2_col5\" class=\"data row2 col5\" >0.5053</td>\n",
       "    </tr>\n",
       "    <tr>\n",
       "      <th id=\"T_bebc8_level0_row3\" class=\"row_heading level0 row3\" >3</th>\n",
       "      <td id=\"T_bebc8_row3_col0\" class=\"data row3 col0\" >Random Forest (threshold=0.3)</td>\n",
       "      <td id=\"T_bebc8_row3_col1\" class=\"data row3 col1\" >0.6030</td>\n",
       "      <td id=\"T_bebc8_row3_col2\" class=\"data row3 col2\" >0.1135</td>\n",
       "      <td id=\"T_bebc8_row3_col3\" class=\"data row3 col3\" >0.3387</td>\n",
       "      <td id=\"T_bebc8_row3_col4\" class=\"data row3 col4\" >0.1701</td>\n",
       "      <td id=\"T_bebc8_row3_col5\" class=\"data row3 col5\" >0.4882</td>\n",
       "    </tr>\n",
       "    <tr>\n",
       "      <th id=\"T_bebc8_level0_row4\" class=\"row_heading level0 row4\" >4</th>\n",
       "      <td id=\"T_bebc8_row4_col0\" class=\"data row4 col0\" >Random Forest (threshold=0.5)</td>\n",
       "      <td id=\"T_bebc8_row4_col1\" class=\"data row4 col1\" >0.6096</td>\n",
       "      <td id=\"T_bebc8_row4_col2\" class=\"data row4 col2\" >0.1129</td>\n",
       "      <td id=\"T_bebc8_row4_col3\" class=\"data row4 col3\" >0.3284</td>\n",
       "      <td id=\"T_bebc8_row4_col4\" class=\"data row4 col4\" >0.1681</td>\n",
       "      <td id=\"T_bebc8_row4_col5\" class=\"data row4 col5\" >0.4895</td>\n",
       "    </tr>\n",
       "    <tr>\n",
       "      <th id=\"T_bebc8_level0_row5\" class=\"row_heading level0 row5\" >5</th>\n",
       "      <td id=\"T_bebc8_row5_col0\" class=\"data row5 col0\" >Random Forest (threshold=0.7)</td>\n",
       "      <td id=\"T_bebc8_row5_col1\" class=\"data row5 col1\" >0.6106</td>\n",
       "      <td id=\"T_bebc8_row5_col2\" class=\"data row5 col2\" >0.1120</td>\n",
       "      <td id=\"T_bebc8_row5_col3\" class=\"data row5 col3\" >0.3238</td>\n",
       "      <td id=\"T_bebc8_row5_col4\" class=\"data row5 col4\" >0.1665</td>\n",
       "      <td id=\"T_bebc8_row5_col5\" class=\"data row5 col5\" >0.4900</td>\n",
       "    </tr>\n",
       "    <tr>\n",
       "      <th id=\"T_bebc8_level0_row6\" class=\"row_heading level0 row6\" >6</th>\n",
       "      <td id=\"T_bebc8_row6_col0\" class=\"data row6 col0\" >Gradient Boosting (threshold=0.3)</td>\n",
       "      <td id=\"T_bebc8_row6_col1\" class=\"data row6 col1\" >0.5687</td>\n",
       "      <td id=\"T_bebc8_row6_col2\" class=\"data row6 col2\" >0.1186</td>\n",
       "      <td id=\"T_bebc8_row6_col3\" class=\"data row6 col3\" >0.4029</td>\n",
       "      <td id=\"T_bebc8_row6_col4\" class=\"data row6 col4\" >0.1832</td>\n",
       "      <td id=\"T_bebc8_row6_col5\" class=\"data row6 col5\" >0.4953</td>\n",
       "    </tr>\n",
       "    <tr>\n",
       "      <th id=\"T_bebc8_level0_row7\" class=\"row_heading level0 row7\" >7</th>\n",
       "      <td id=\"T_bebc8_row7_col0\" class=\"data row7 col0\" >Gradient Boosting (threshold=0.5)</td>\n",
       "      <td id=\"T_bebc8_row7_col1\" class=\"data row7 col1\" >0.5687</td>\n",
       "      <td id=\"T_bebc8_row7_col2\" class=\"data row7 col2\" >0.1186</td>\n",
       "      <td id=\"T_bebc8_row7_col3\" class=\"data row7 col3\" >0.4029</td>\n",
       "      <td id=\"T_bebc8_row7_col4\" class=\"data row7 col4\" >0.1832</td>\n",
       "      <td id=\"T_bebc8_row7_col5\" class=\"data row7 col5\" >0.4953</td>\n",
       "    </tr>\n",
       "    <tr>\n",
       "      <th id=\"T_bebc8_level0_row8\" class=\"row_heading level0 row8\" >8</th>\n",
       "      <td id=\"T_bebc8_row8_col0\" class=\"data row8 col0\" >Gradient Boosting (threshold=0.7)</td>\n",
       "      <td id=\"T_bebc8_row8_col1\" class=\"data row8 col1\" >0.5687</td>\n",
       "      <td id=\"T_bebc8_row8_col2\" class=\"data row8 col2\" >0.1186</td>\n",
       "      <td id=\"T_bebc8_row8_col3\" class=\"data row8 col3\" >0.4029</td>\n",
       "      <td id=\"T_bebc8_row8_col4\" class=\"data row8 col4\" >0.1832</td>\n",
       "      <td id=\"T_bebc8_row8_col5\" class=\"data row8 col5\" >0.4953</td>\n",
       "    </tr>\n",
       "    <tr>\n",
       "      <th id=\"T_bebc8_level0_row9\" class=\"row_heading level0 row9\" >9</th>\n",
       "      <td id=\"T_bebc8_row9_col0\" class=\"data row9 col0\" >K-Nearest Neighbors (threshold=0.3)</td>\n",
       "      <td id=\"T_bebc8_row9_col1\" class=\"data row9 col1\" >0.5887</td>\n",
       "      <td id=\"T_bebc8_row9_col2\" class=\"data row9 col2\" >0.1192</td>\n",
       "      <td id=\"T_bebc8_row9_col3\" class=\"data row9 col3\" >0.3794</td>\n",
       "      <td id=\"T_bebc8_row9_col4\" class=\"data row9 col4\" >0.1814</td>\n",
       "      <td id=\"T_bebc8_row9_col5\" class=\"data row9 col5\" >0.4979</td>\n",
       "    </tr>\n",
       "    <tr>\n",
       "      <th id=\"T_bebc8_level0_row10\" class=\"row_heading level0 row10\" >10</th>\n",
       "      <td id=\"T_bebc8_row10_col0\" class=\"data row10 col0\" >K-Nearest Neighbors (threshold=0.5)</td>\n",
       "      <td id=\"T_bebc8_row10_col1\" class=\"data row10 col1\" >0.5887</td>\n",
       "      <td id=\"T_bebc8_row10_col2\" class=\"data row10 col2\" >0.1192</td>\n",
       "      <td id=\"T_bebc8_row10_col3\" class=\"data row10 col3\" >0.3794</td>\n",
       "      <td id=\"T_bebc8_row10_col4\" class=\"data row10 col4\" >0.1814</td>\n",
       "      <td id=\"T_bebc8_row10_col5\" class=\"data row10 col5\" >0.4979</td>\n",
       "    </tr>\n",
       "    <tr>\n",
       "      <th id=\"T_bebc8_level0_row11\" class=\"row_heading level0 row11\" >11</th>\n",
       "      <td id=\"T_bebc8_row11_col0\" class=\"data row11 col0\" >K-Nearest Neighbors (threshold=0.7)</td>\n",
       "      <td id=\"T_bebc8_row11_col1\" class=\"data row11 col1\" >0.5887</td>\n",
       "      <td id=\"T_bebc8_row11_col2\" class=\"data row11 col2\" >0.1192</td>\n",
       "      <td id=\"T_bebc8_row11_col3\" class=\"data row11 col3\" >0.3794</td>\n",
       "      <td id=\"T_bebc8_row11_col4\" class=\"data row11 col4\" >0.1814</td>\n",
       "      <td id=\"T_bebc8_row11_col5\" class=\"data row11 col5\" >0.4979</td>\n",
       "    </tr>\n",
       "    <tr>\n",
       "      <th id=\"T_bebc8_level0_row12\" class=\"row_heading level0 row12\" >12</th>\n",
       "      <td id=\"T_bebc8_row12_col0\" class=\"data row12 col0\" >XGBoost (threshold=0.3)</td>\n",
       "      <td id=\"T_bebc8_row12_col1\" class=\"data row12 col1\" >0.5348</td>\n",
       "      <td id=\"T_bebc8_row12_col2\" class=\"data row12 col2\" >0.1209</td>\n",
       "      <td id=\"T_bebc8_row12_col3\" class=\"data row12 col3\" >0.4585</td>\n",
       "      <td id=\"T_bebc8_row12_col4\" class=\"data row12 col4\" >0.1914</td>\n",
       "      <td id=\"T_bebc8_row12_col5\" class=\"data row12 col5\" >0.5014</td>\n",
       "    </tr>\n",
       "    <tr>\n",
       "      <th id=\"T_bebc8_level0_row13\" class=\"row_heading level0 row13\" >13</th>\n",
       "      <td id=\"T_bebc8_row13_col0\" class=\"data row13 col0\" >XGBoost (threshold=0.5)</td>\n",
       "      <td id=\"T_bebc8_row13_col1\" class=\"data row13 col1\" >0.5348</td>\n",
       "      <td id=\"T_bebc8_row13_col2\" class=\"data row13 col2\" >0.1209</td>\n",
       "      <td id=\"T_bebc8_row13_col3\" class=\"data row13 col3\" >0.4585</td>\n",
       "      <td id=\"T_bebc8_row13_col4\" class=\"data row13 col4\" >0.1914</td>\n",
       "      <td id=\"T_bebc8_row13_col5\" class=\"data row13 col5\" >0.5014</td>\n",
       "    </tr>\n",
       "    <tr>\n",
       "      <th id=\"T_bebc8_level0_row14\" class=\"row_heading level0 row14\" >14</th>\n",
       "      <td id=\"T_bebc8_row14_col0\" class=\"data row14 col0\" >XGBoost (threshold=0.7)</td>\n",
       "      <td id=\"T_bebc8_row14_col1\" class=\"data row14 col1\" >0.5348</td>\n",
       "      <td id=\"T_bebc8_row14_col2\" class=\"data row14 col2\" >0.1209</td>\n",
       "      <td id=\"T_bebc8_row14_col3\" class=\"data row14 col3\" >0.4585</td>\n",
       "      <td id=\"T_bebc8_row14_col4\" class=\"data row14 col4\" >0.1914</td>\n",
       "      <td id=\"T_bebc8_row14_col5\" class=\"data row14 col5\" >0.5014</td>\n",
       "    </tr>\n",
       "  </tbody>\n",
       "</table>\n"
      ],
      "text/plain": [
       "<pandas.io.formats.style.Styler at 0x129483fa310>"
      ]
     },
     "execution_count": 61,
     "metadata": {},
     "output_type": "execute_result"
    }
   ],
   "source": [
    "\n",
    "# Function to evaluate the model and store results\n",
    "def evaluate_model(model, X_train, y_train, X_test, y_test, model_name):\n",
    "    model.fit(X_train, y_train)\n",
    "    y_pred = model.predict(X_test)\n",
    "    y_pred_proba = model.predict_proba(X_test)[:, 1] if hasattr(model, \"predict_proba\") else None\n",
    "\n",
    "    # Metrics\n",
    "    accuracy = accuracy_score(y_test, y_pred)\n",
    "    precision = precision_score(y_test, y_pred)\n",
    "    recall = recall_score(y_test, y_pred)\n",
    "    f1 = f1_score(y_test, y_pred)\n",
    "    roc_auc = roc_auc_score(y_test, y_pred_proba) if y_pred_proba is not None else None\n",
    "    \n",
    "    return accuracy, precision, recall, f1, roc_auc\n",
    "\n",
    "# Hyperparameter tuning setup for different models\n",
    "param_grids = {\n",
    "    'Logistic Regression': {'C': [0.01, 0.1, 1, 10], 'solver': ['liblinear', 'lbfgs']},\n",
    "    'Random Forest': {'n_estimators': [50, 100, 200], 'max_depth': [5, 10, 15], 'min_samples_split': [2, 5, 10]},\n",
    "    'Gradient Boosting': {'n_estimators': [50, 100, 200], 'learning_rate': [0.01, 0.1], 'max_depth': [3, 5]},\n",
    "    'K-Nearest Neighbors': {'n_neighbors': [3, 5, 7, 9]},\n",
    "    'XGBoost': {'n_estimators': [50, 100, 200], 'max_depth': [3, 5, 7], 'learning_rate': [0.01, 0.1],'subsample': [0.8, 1.0]}\n",
    "}\n",
    "#To store the result\n",
    "results_list=[]\n",
    "\n",
    "# Evaluating each model and store the results in the DataFrame\n",
    "for model_name, model in models.items():\n",
    "    param_grid = param_grids.get(model_name, {})\n",
    "    random_search = RandomizedSearchCV(model, param_distributions=param_grid, cv=5, scoring='f1', n_jobs=-1, random_state=42, n_iter=10)\n",
    "    \n",
    "    random_search.fit(X_train_resampled, y_train_resampled)\n",
    "    \n",
    "    best_model = random_search.best_estimator_\n",
    "    print(f\"Best parameters for {model_name}: {random_search.best_params_}\")\n",
    "    \n",
    "    \n",
    "    # Trying different thresholds (e.g., 0.3, 0.5, 0.7) to improve precision/recall balance\n",
    "    thresholds = [0.3, 0.5, 0.7]\n",
    "    for threshold in thresholds:\n",
    "        accuracy, precision, recall, f1, roc_auc = evaluate_model(best_model, X_train_resampled, y_train_resampled, X_test_transformed, y_test, threshold)\n",
    "        \n",
    "        # Adding to results DataFrame\n",
    "        results_list.append({\n",
    "            'Model': f\"{model_name} (threshold={threshold})\",\n",
    "            'Accuracy': accuracy,\n",
    "            'Precision': precision,\n",
    "            'Recall': recall,\n",
    "            'F1 Score': f1,\n",
    "            'ROC-AUC': roc_auc\n",
    "        })\n",
    "# DataFrame from results\n",
    "results_df = pd.DataFrame(results_list)\n",
    "\n",
    "# Results\n",
    "print(results_df)\n",
    "results_df.style.background_gradient(cmap='viridis').format(precision=4)"
   ]
  },
  {
   "cell_type": "code",
   "execution_count": 70,
   "metadata": {},
   "outputs": [
    {
     "name": "stderr",
     "output_type": "stream",
     "text": [
      "C:\\Users\\chatu\\AppData\\Local\\Temp\\ipykernel_3200\\4153006134.py:10: FutureWarning: \n",
      "\n",
      "Passing `palette` without assigning `hue` is deprecated and will be removed in v0.14.0. Assign the `x` variable to `hue` and set `legend=False` for the same effect.\n",
      "\n",
      "  sns.barplot(data=results_df, x='Model', y='Accuracy', ax=axes[0, 0], palette=\"Blues_d\")\n",
      "C:\\Users\\chatu\\AppData\\Local\\Temp\\ipykernel_3200\\4153006134.py:15: FutureWarning: \n",
      "\n",
      "Passing `palette` without assigning `hue` is deprecated and will be removed in v0.14.0. Assign the `x` variable to `hue` and set `legend=False` for the same effect.\n",
      "\n",
      "  sns.barplot(data=results_df, x='Model', y='Precision', ax=axes[0, 1], palette=\"Reds_d\")\n",
      "C:\\Users\\chatu\\AppData\\Local\\Temp\\ipykernel_3200\\4153006134.py:20: FutureWarning: \n",
      "\n",
      "Passing `palette` without assigning `hue` is deprecated and will be removed in v0.14.0. Assign the `x` variable to `hue` and set `legend=False` for the same effect.\n",
      "\n",
      "  sns.barplot(data=results_df, x='Model', y='Recall', ax=axes[1, 0], palette=\"Greens_d\")\n",
      "C:\\Users\\chatu\\AppData\\Local\\Temp\\ipykernel_3200\\4153006134.py:25: FutureWarning: \n",
      "\n",
      "Passing `palette` without assigning `hue` is deprecated and will be removed in v0.14.0. Assign the `x` variable to `hue` and set `legend=False` for the same effect.\n",
      "\n",
      "  sns.barplot(data=results_df, x='Model', y='F1 Score', ax=axes[1, 1], palette=\"Purples_d\")\n",
      "C:\\Users\\chatu\\AppData\\Local\\Temp\\ipykernel_3200\\4153006134.py:30: FutureWarning: \n",
      "\n",
      "Passing `palette` without assigning `hue` is deprecated and will be removed in v0.14.0. Assign the `x` variable to `hue` and set `legend=False` for the same effect.\n",
      "\n",
      "  sns.barplot(data=results_df, x='Model', y='ROC-AUC', ax=axes[2, 0], palette=\"Oranges_d\")\n"
     ]
    },
    {
     "data": {
      "image/png": "[encoded data removed]",
      "text/plain": [
       "<Figure size 1500x1200 with 6 Axes>"
      ]
     },
     "metadata": {},
     "output_type": "display_data"
    }
   ],
   "source": [
    "sns.set(style=\"whitegrid\")\n",
    "\n",
    "# A function to plot evaluation results\n",
    "def plot_evaluation_results(results_df):\n",
    "    # Set up the figure and axis\n",
    "    fig, axes = plt.subplots(3, 2, figsize=(15, 12))\n",
    "    fig.suptitle(\"Model Evaluation Metrics\", fontsize=8)\n",
    "\n",
    "    # Accuracy plot\n",
    "    sns.barplot(data=results_df, x='Model', y='Accuracy', ax=axes[0, 0], palette=\"Blues_d\")\n",
    "    axes[0, 0].set_title('Accuracy')\n",
    "    axes[0, 0].tick_params(axis='x', rotation=90)\n",
    "\n",
    "    # Precision plot\n",
    "    sns.barplot(data=results_df, x='Model', y='Precision', ax=axes[0, 1], palette=\"Reds_d\")\n",
    "    axes[0, 1].set_title('Precision')\n",
    "    axes[0, 1].tick_params(axis='x', rotation=90)\n",
    "\n",
    "    # Recall plot\n",
    "    sns.barplot(data=results_df, x='Model', y='Recall', ax=axes[1, 0], palette=\"Greens_d\")\n",
    "    axes[1, 0].set_title('Recall')\n",
    "    axes[1, 0].tick_params(axis='x', rotation=90)\n",
    "\n",
    "    # F1 Score plot\n",
    "    sns.barplot(data=results_df, x='Model', y='F1 Score', ax=axes[1, 1], palette=\"Purples_d\")\n",
    "    axes[1, 1].set_title('F1 Score')\n",
    "    axes[1, 1].tick_params(axis='x', rotation=90)\n",
    "\n",
    "    # ROC-AUC plot\n",
    "    sns.barplot(data=results_df, x='Model', y='ROC-AUC', ax=axes[2, 0], palette=\"Oranges_d\")\n",
    "    axes[2, 0].set_title('ROC-AUC')\n",
    "    axes[2, 0].tick_params(axis='x', rotation=90)\n",
    "\n",
    "    \n",
    "    axes[2, 1].axis('off')\n",
    "\n",
    "    # Adjusting the layout\n",
    "    \n",
    "    plt.show()\n",
    "\n",
    "\n",
    "plot_evaluation_results(results_df)\n"
   ]
  }
 ],
 "metadata": {
  "kernelspec": {
   "display_name": "Python 3",
   "language": "python",
   "name": "python3"
  },
  "language_info": {
   "codemirror_mode": {
    "name": "ipython",
    "version": 3
   },
   "file_extension": ".py",
   "mimetype": "text/x-python",
   "name": "python",
   "nbconvert_exporter": "python",
   "pygments_lexer": "ipython3",
   "version": "3.8.19"
  }
 },
 "nbformat": 4,
 "nbformat_minor": 2
}
